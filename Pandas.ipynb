{
 "cells": [
  {
   "cell_type": "markdown",
   "id": "70b6535c",
   "metadata": {},
   "source": [
    "# Pandas\n",
    "\n",
    "\n",
    "\n",
    "### 자료구조: Seires와 Dataframe\n",
    "Pandas에서 제공하는 데이터 자료구조는 Series와 Dataframe 두가지가 존재하는데 Series는 시계열과 유사한 데이터로서 index와 value가 존재하고 Dataframe은 딕셔너리데이터를 매트릭스 형태로 만들어 준 것 같은 frame을 가지고 있다. 이런 데이터 구조를 통해 시계열, 비시계열 데이터를 통합하여 다룰 수 있다.\n",
    "\n",
    "\n",
    "\n",
    "### Series\n",
    "\n"
   ]
  },
  {
   "cell_type": "markdown",
   "id": "b07e5c46",
   "metadata": {},
   "source": [
    "# 이부분을 진행 할때 pasdas가 없다고 오류가 나면 아래 명령을 실행한다. \n",
    "\n",
    "# !pip3 install pandas"
   ]
  },
  {
   "cell_type": "markdown",
   "id": "5ea4cd33",
   "metadata": {},
   "source": [
    "import pandas as pd\n",
    "from pandas import Series, DataFrame"
   ]
  },
  {
   "cell_type": "code",
   "execution_count": 1,
   "id": "9b4aa61b",
   "metadata": {},
   "outputs": [],
   "source": [
    "from pandas import Series, DataFrame\n",
    "import pandas as pd\n",
    "\n",
    "fruit = Series([2500, 3800, 1200, 6000], index = ['apple', 'banana', 'pear', 'cherry'])"
   ]
  },
  {
   "cell_type": "code",
   "execution_count": 2,
   "id": "e11bbe88",
   "metadata": {
    "scrolled": true
   },
   "outputs": [
    {
     "data": {
      "text/plain": [
       "apple     2500\n",
       "banana    3800\n",
       "pear      1200\n",
       "cherry    6000\n",
       "dtype: int64"
      ]
     },
     "execution_count": 2,
     "metadata": {},
     "output_type": "execute_result"
    }
   ],
   "source": [
    "fruit"
   ]
  },
  {
   "cell_type": "code",
   "execution_count": 3,
   "id": "bcc05a43",
   "metadata": {},
   "outputs": [],
   "source": [
    "### values index\n",
    "fruit = Series([2500, 3800, 1200, 6000], index = ['apple', 'banana', 'pear', 'cherry'])"
   ]
  },
  {
   "cell_type": "code",
   "execution_count": 4,
   "id": "39725f35",
   "metadata": {},
   "outputs": [
    {
     "name": "stdout",
     "output_type": "stream",
     "text": [
      "[2500 3800 1200 6000]\n"
     ]
    }
   ],
   "source": [
    "print(fruit.values)"
   ]
  },
  {
   "cell_type": "code",
   "execution_count": 5,
   "id": "0734dd81",
   "metadata": {},
   "outputs": [
    {
     "name": "stdout",
     "output_type": "stream",
     "text": [
      "Index(['apple', 'banana', 'pear', 'cherry'], dtype='object')\n"
     ]
    }
   ],
   "source": [
    "print(fruit.index)"
   ]
  },
  {
   "cell_type": "markdown",
   "id": "be5b0c9e",
   "metadata": {},
   "source": [
    "Series의 형태는 딕셔너리와 매우 유사하며 key가 index로 바뀌었다고 착각할 수 있지만 사실상 데이터 구조 자체가 매우 다르기 때문에 딕셔너리에서 사용하는 방식이 조금씩 다르다."
   ]
  },
  {
   "cell_type": "markdown",
   "id": "2d243e1e",
   "metadata": {},
   "source": [
    "특정값 추출 values, index"
   ]
  },
  {
   "cell_type": "code",
   "execution_count": 6,
   "id": "b9d15e26",
   "metadata": {},
   "outputs": [],
   "source": [
    "### Series()\n",
    "fruitData = {'apple':2500, 'banana':3800, 'pear':1200, 'cherry':6000}\n",
    "fruit = Series(fruitData)"
   ]
  },
  {
   "cell_type": "code",
   "execution_count": 7,
   "id": "4074feaa",
   "metadata": {},
   "outputs": [
    {
     "data": {
      "text/plain": [
       "dict"
      ]
     },
     "execution_count": 7,
     "metadata": {},
     "output_type": "execute_result"
    }
   ],
   "source": [
    "type(fruitData)"
   ]
  },
  {
   "cell_type": "code",
   "execution_count": 8,
   "id": "453470a8",
   "metadata": {},
   "outputs": [
    {
     "data": {
      "text/plain": [
       "pandas.core.series.Series"
      ]
     },
     "execution_count": 8,
     "metadata": {},
     "output_type": "execute_result"
    }
   ],
   "source": [
    "type(fruit)"
   ]
  },
  {
   "cell_type": "markdown",
   "id": "c0a7edc8",
   "metadata": {},
   "source": [
    "Value와 Index 이름 지정하기 name"
   ]
  },
  {
   "cell_type": "code",
   "execution_count": 9,
   "id": "c338b890",
   "metadata": {},
   "outputs": [],
   "source": [
    "## name\n",
    "fruit = Series([2500, 3800, 1200, 6000],index = ['apple','banana','pear','cherry'])"
   ]
  },
  {
   "cell_type": "code",
   "execution_count": 10,
   "id": "3a7ef69a",
   "metadata": {},
   "outputs": [],
   "source": [
    "fruit.name = 'fruitPrice'"
   ]
  },
  {
   "cell_type": "code",
   "execution_count": 11,
   "id": "3d2230ee",
   "metadata": {},
   "outputs": [],
   "source": [
    "fruit.index.name = 'fruitName'"
   ]
  },
  {
   "cell_type": "code",
   "execution_count": 12,
   "id": "fd508e81",
   "metadata": {
    "scrolled": true
   },
   "outputs": [
    {
     "name": "stdout",
     "output_type": "stream",
     "text": [
      "fruitName\n",
      "apple     2500\n",
      "banana    3800\n",
      "pear      1200\n",
      "cherry    6000\n",
      "Name: fruitPrice, dtype: int64\n"
     ]
    }
   ],
   "source": [
    "print(fruit)"
   ]
  },
  {
   "cell_type": "markdown",
   "id": "c80904c3",
   "metadata": {},
   "source": [
    "index에 해당하는 fruitName이 index위에 지정이 되고 value의 역할인 fruitPrice는 아래에서 표출된다."
   ]
  },
  {
   "cell_type": "markdown",
   "id": "b3ec367b",
   "metadata": {},
   "source": [
    "Value와 Index 이름 지정하기 name"
   ]
  },
  {
   "cell_type": "markdown",
   "id": "86f2a80c",
   "metadata": {},
   "source": [
    "ndex에 해당하는 fruitName이 index위에 지정이 되고 value의 역할인 fruitPrice는 아래에서 표출된다."
   ]
  },
  {
   "cell_type": "markdown",
   "id": "d26a2929",
   "metadata": {},
   "source": [
    "## Dataframe\n",
    "\n",
    "Dataframe 구조"
   ]
  },
  {
   "cell_type": "code",
   "execution_count": 13,
   "id": "6c05da38",
   "metadata": {},
   "outputs": [],
   "source": [
    "## Dataframe()\n",
    "fruitData = {'fruitName':['apple','banana','cherry','pear'],\n",
    "            'fruitPrice': [2500,3800,6000,1200],\n",
    "            'num': [10,5,3,8]}"
   ]
  },
  {
   "cell_type": "code",
   "execution_count": 14,
   "id": "baff724b",
   "metadata": {},
   "outputs": [],
   "source": [
    "fruitFrame = DataFrame(fruitData)"
   ]
  },
  {
   "cell_type": "code",
   "execution_count": 15,
   "id": "d8719784",
   "metadata": {},
   "outputs": [
    {
     "name": "stdout",
     "output_type": "stream",
     "text": [
      "  fruitName  fruitPrice  num\n",
      "0     apple        2500   10\n",
      "1    banana        3800    5\n",
      "2    cherry        6000    3\n",
      "3      pear        1200    8\n"
     ]
    }
   ],
   "source": [
    "print(fruitFrame)"
   ]
  },
  {
   "cell_type": "markdown",
   "id": "64054da3",
   "metadata": {},
   "source": [
    "컬럼순서 지정하기"
   ]
  },
  {
   "cell_type": "code",
   "execution_count": 16,
   "id": "83e24e3b",
   "metadata": {},
   "outputs": [],
   "source": [
    "## columns\n",
    "fruitFrame = DataFrame(fruitData, columns = ['fruitPrice','num','fruitName'])"
   ]
  },
  {
   "cell_type": "code",
   "execution_count": 17,
   "id": "b7d5cf8b",
   "metadata": {},
   "outputs": [
    {
     "name": "stdout",
     "output_type": "stream",
     "text": [
      "   fruitPrice  num fruitName\n",
      "0        2500   10     apple\n",
      "1        3800    5    banana\n",
      "2        6000    3    cherry\n",
      "3        1200    8      pear\n"
     ]
    }
   ],
   "source": [
    "print(fruitFrame)"
   ]
  },
  {
   "cell_type": "markdown",
   "id": "920d809d",
   "metadata": {},
   "source": [
    "특정항목 추출하기"
   ]
  },
  {
   "cell_type": "code",
   "execution_count": 18,
   "id": "3faae795",
   "metadata": {},
   "outputs": [
    {
     "data": {
      "text/plain": [
       "0     apple\n",
       "1    banana\n",
       "2    cherry\n",
       "3      pear\n",
       "Name: fruitName, dtype: object"
      ]
     },
     "execution_count": 18,
     "metadata": {},
     "output_type": "execute_result"
    }
   ],
   "source": [
    "fruitFrame['fruitName']"
   ]
  },
  {
   "cell_type": "code",
   "execution_count": 19,
   "id": "2023d5bd",
   "metadata": {},
   "outputs": [
    {
     "data": {
      "text/plain": [
       "0     apple\n",
       "1    banana\n",
       "2    cherry\n",
       "3      pear\n",
       "Name: fruitName, dtype: object"
      ]
     },
     "execution_count": 19,
     "metadata": {},
     "output_type": "execute_result"
    }
   ],
   "source": [
    "fruitFrame.fruitName"
   ]
  },
  {
   "cell_type": "markdown",
   "id": "8972a547",
   "metadata": {},
   "source": [
    "컬럼 추가하기"
   ]
  },
  {
   "cell_type": "code",
   "execution_count": 20,
   "id": "9d278829",
   "metadata": {},
   "outputs": [],
   "source": [
    "fruitFrame['Year'] = 2016"
   ]
  },
  {
   "cell_type": "code",
   "execution_count": 21,
   "id": "3fd3368d",
   "metadata": {},
   "outputs": [
    {
     "name": "stdout",
     "output_type": "stream",
     "text": [
      "   fruitPrice  num fruitName  Year\n",
      "0        2500   10     apple  2016\n",
      "1        3800    5    banana  2016\n",
      "2        6000    3    cherry  2016\n",
      "3        1200    8      pear  2016\n"
     ]
    }
   ],
   "source": [
    "print(fruitFrame)"
   ]
  },
  {
   "cell_type": "markdown",
   "id": "6eabae5f",
   "metadata": {},
   "source": [
    "데이터 프레임이 기존의 파이썬의 데이터 구조보다 조금 더 간편한 것 중 하나가 바로 이런 데이터 추가 방식이다. 기존의 데이터 구조 리스트나 딕셔너리의 경우 추가하는 것이 번거롭지만 데이터 프레임의 경 위와 같이 새로운 컬럼을 지정만 해주면 된다."
   ]
  },
  {
   "cell_type": "code",
   "execution_count": 22,
   "id": "2af61301",
   "metadata": {},
   "outputs": [
    {
     "name": "stdout",
     "output_type": "stream",
     "text": [
      "0    4\n",
      "2    2\n",
      "3    1\n",
      "dtype: int64\n"
     ]
    }
   ],
   "source": [
    "variable = Series([4,2,1],index=[0,2,3])\n",
    "print(variable)"
   ]
  },
  {
   "cell_type": "code",
   "execution_count": 23,
   "id": "38bc5eb1",
   "metadata": {},
   "outputs": [],
   "source": [
    "fruitFrame['stock'] = variable"
   ]
  },
  {
   "cell_type": "code",
   "execution_count": 24,
   "id": "792c7f62",
   "metadata": {},
   "outputs": [
    {
     "name": "stdout",
     "output_type": "stream",
     "text": [
      "   fruitPrice  num fruitName  Year  stock\n",
      "0        2500   10     apple  2016    4.0\n",
      "1        3800    5    banana  2016    NaN\n",
      "2        6000    3    cherry  2016    2.0\n",
      "3        1200    8      pear  2016    1.0\n"
     ]
    }
   ],
   "source": [
    "print(fruitFrame)"
   ]
  },
  {
   "cell_type": "markdown",
   "id": "0985372b",
   "metadata": {},
   "source": [
    "## 자료 다루기\n",
    "\n",
    "앞 장에서 Pandas의 자료 구조 형태인 Series와 Dataframe에 대한 생성 방식과 기본적인 데이터 구조 다루는 방법에 대해서 살펴 보았다. 여기서 부터는 Series와 Dataframe으로 데이터를 다루는 방법을 좀 더 살펴 본다. "
   ]
  },
  {
   "cell_type": "markdown",
   "id": "2cfe94a1",
   "metadata": {},
   "source": [
    "### 데이터 구조의 항목 삭제 \n",
    "\n",
    "Series 데이터 row 삭제하기"
   ]
  },
  {
   "cell_type": "code",
   "execution_count": 25,
   "id": "cf7e574c",
   "metadata": {},
   "outputs": [],
   "source": [
    "fruit = Series([2500,3800,1200,6000],index=['apple','banana','pear','cherry'])"
   ]
  },
  {
   "cell_type": "code",
   "execution_count": 26,
   "id": "00b345a2",
   "metadata": {},
   "outputs": [],
   "source": [
    "new_fruit = fruit.drop('banana')"
   ]
  },
  {
   "cell_type": "code",
   "execution_count": 27,
   "id": "93155e47",
   "metadata": {},
   "outputs": [
    {
     "name": "stdout",
     "output_type": "stream",
     "text": [
      "apple     2500\n",
      "banana    3800\n",
      "pear      1200\n",
      "cherry    6000\n",
      "dtype: int64\n"
     ]
    }
   ],
   "source": [
    "print(fruit)"
   ]
  },
  {
   "cell_type": "code",
   "execution_count": 28,
   "id": "52eaf43d",
   "metadata": {},
   "outputs": [
    {
     "name": "stdout",
     "output_type": "stream",
     "text": [
      "apple     2500\n",
      "pear      1200\n",
      "cherry    6000\n",
      "dtype: int64\n"
     ]
    }
   ],
   "source": [
    "print(new_fruit)"
   ]
  },
  {
   "cell_type": "markdown",
   "id": "6b1c9954",
   "metadata": {},
   "source": [
    "Dataframe row 삭제하기"
   ]
  },
  {
   "cell_type": "code",
   "execution_count": 30,
   "id": "901d2990",
   "metadata": {},
   "outputs": [],
   "source": [
    "fruitData = {'fruitName':['apple','banana','cherry','pear'], \n",
    "             'fruitPrice':[2500,3800,6000,1200],\n",
    "             'num':[10,5,3,8]}"
   ]
  },
  {
   "cell_type": "code",
   "execution_count": 31,
   "id": "2ed46a39",
   "metadata": {},
   "outputs": [],
   "source": [
    "fruitName = fruitData['fruitName']"
   ]
  },
  {
   "cell_type": "code",
   "execution_count": 35,
   "id": "2b0b7d77",
   "metadata": {},
   "outputs": [
    {
     "name": "stdout",
     "output_type": "stream",
     "text": [
      "        fruitPrice  num\n",
      "apple         2500   10\n",
      "banana        3800    5\n",
      "cherry        6000    3\n",
      "pear          1200    8\n"
     ]
    }
   ],
   "source": [
    "print(fruitFrame)"
   ]
  },
  {
   "cell_type": "code",
   "execution_count": 33,
   "id": "5bfc1911",
   "metadata": {},
   "outputs": [],
   "source": [
    "fruitFrame = DataFrame(fruitData, index = fruitName, columns = ['fruitPrice','num'])"
   ]
  },
  {
   "cell_type": "code",
   "execution_count": 34,
   "id": "9a47ddb4",
   "metadata": {},
   "outputs": [],
   "source": [
    "fruitFrame2 = fruitFrame.drop(['apple','cherry'])"
   ]
  },
  {
   "cell_type": "code",
   "execution_count": 36,
   "id": "a81ae93d",
   "metadata": {},
   "outputs": [
    {
     "name": "stdout",
     "output_type": "stream",
     "text": [
      "        fruitPrice  num\n",
      "apple         2500   10\n",
      "banana        3800    5\n",
      "cherry        6000    3\n",
      "pear          1200    8\n"
     ]
    }
   ],
   "source": [
    "print(fruitFrame)"
   ]
  },
  {
   "cell_type": "code",
   "execution_count": 37,
   "id": "111bf6e7",
   "metadata": {},
   "outputs": [
    {
     "name": "stdout",
     "output_type": "stream",
     "text": [
      "        fruitPrice  num\n",
      "banana        3800    5\n",
      "pear          1200    8\n"
     ]
    }
   ],
   "source": [
    "print(fruitFrame2)"
   ]
  },
  {
   "cell_type": "markdown",
   "id": "563b61ce",
   "metadata": {},
   "source": [
    "Dataframe의 인자에 index를 추가하면 원하는 index 값을 지정 할 수 있다. index는 columns와 다르게 DataFrame을 만들고자 하는 데이터에서 가져올 수 없고 따로 객체가 존재해야 한다."
   ]
  },
  {
   "cell_type": "markdown",
   "id": "ca79cebb",
   "metadata": {},
   "source": [
    "Dataframe column 삭제하기"
   ]
  },
  {
   "cell_type": "code",
   "execution_count": 38,
   "id": "15899ebd",
   "metadata": {},
   "outputs": [],
   "source": [
    "fruitFrame3 = fruitFrame.drop('num', axis=1)"
   ]
  },
  {
   "cell_type": "code",
   "execution_count": 39,
   "id": "c6f69137",
   "metadata": {},
   "outputs": [
    {
     "name": "stdout",
     "output_type": "stream",
     "text": [
      "        fruitPrice  num\n",
      "apple         2500   10\n",
      "banana        3800    5\n",
      "cherry        6000    3\n",
      "pear          1200    8\n"
     ]
    }
   ],
   "source": [
    "print(fruitFrame)"
   ]
  },
  {
   "cell_type": "code",
   "execution_count": 40,
   "id": "490e167f",
   "metadata": {},
   "outputs": [
    {
     "name": "stdout",
     "output_type": "stream",
     "text": [
      "        fruitPrice\n",
      "apple         2500\n",
      "banana        3800\n",
      "cherry        6000\n",
      "pear          1200\n"
     ]
    }
   ],
   "source": [
    "print(fruitFrame3)"
   ]
  },
  {
   "cell_type": "markdown",
   "id": "032d34f0",
   "metadata": {},
   "source": [
    "row삭제와 마찬가지로 여러 개의 컬럼을 석제하려면 ['num','fruitPrice'] 처럼 리스트 형태로 값을 지정하면 된다."
   ]
  },
  {
   "cell_type": "markdown",
   "id": "dcff5a3c",
   "metadata": {},
   "source": [
    "## 항목 추출하기\n",
    "\n",
    "Series의 slice"
   ]
  },
  {
   "cell_type": "code",
   "execution_count": 41,
   "id": "953b3759",
   "metadata": {},
   "outputs": [
    {
     "data": {
      "text/plain": [
       "apple     2500\n",
       "banana    3800\n",
       "peer      1200\n",
       "dtype: int64"
      ]
     },
     "execution_count": 41,
     "metadata": {},
     "output_type": "execute_result"
    }
   ],
   "source": [
    "fruit = Series([2500,3800,1200,6000],index=['apple','banana','peer','cherry']) \n",
    "fruit['apple':'peer']"
   ]
  },
  {
   "cell_type": "markdown",
   "id": "31a236d7",
   "metadata": {},
   "source": [
    "Series에서 slice는 각 항목이 아닌 시작점과 끝점을 표시해서 자를 수 있다."
   ]
  },
  {
   "cell_type": "markdown",
   "id": "f19af9f0",
   "metadata": {},
   "source": [
    "Dataframe의 slice"
   ]
  },
  {
   "cell_type": "code",
   "execution_count": 42,
   "id": "60c1f652",
   "metadata": {},
   "outputs": [],
   "source": [
    "fruitData = {'fruitName':['apple','banana','cherry','peer'], \n",
    "             'fruitPrice':[2500,3800,6000,1200],\n",
    "             'num':[10,5,3,8]}"
   ]
  },
  {
   "cell_type": "code",
   "execution_count": 43,
   "id": "ad11e354",
   "metadata": {},
   "outputs": [],
   "source": [
    "fruitName = fruitData['fruitName']"
   ]
  },
  {
   "cell_type": "code",
   "execution_count": 44,
   "id": "0bdcb9b7",
   "metadata": {},
   "outputs": [],
   "source": [
    "fruitFrame = DataFrame(fruitData, index = fruitName, columns = ['fruitPrice','num'])"
   ]
  },
  {
   "cell_type": "code",
   "execution_count": 46,
   "id": "d101f8c0",
   "metadata": {},
   "outputs": [
    {
     "name": "stdout",
     "output_type": "stream",
     "text": [
      "        fruitPrice  num\n",
      "apple         2500   10\n",
      "banana        3800    5\n",
      "cherry        6000    3\n",
      "peer          1200    8\n"
     ]
    }
   ],
   "source": [
    "print(fruitFrame)"
   ]
  },
  {
   "cell_type": "code",
   "execution_count": 47,
   "id": "71f3c026",
   "metadata": {},
   "outputs": [
    {
     "data": {
      "text/plain": [
       "apple     2500\n",
       "banana    3800\n",
       "cherry    6000\n",
       "peer      1200\n",
       "Name: fruitPrice, dtype: int64"
      ]
     },
     "execution_count": 47,
     "metadata": {},
     "output_type": "execute_result"
    }
   ],
   "source": [
    "fruitFrame['fruitPrice']"
   ]
  },
  {
   "cell_type": "code",
   "execution_count": 49,
   "id": "6745f718",
   "metadata": {},
   "outputs": [
    {
     "data": {
      "text/html": [
       "<div>\n",
       "<style scoped>\n",
       "    .dataframe tbody tr th:only-of-type {\n",
       "        vertical-align: middle;\n",
       "    }\n",
       "\n",
       "    .dataframe tbody tr th {\n",
       "        vertical-align: top;\n",
       "    }\n",
       "\n",
       "    .dataframe thead th {\n",
       "        text-align: right;\n",
       "    }\n",
       "</style>\n",
       "<table border=\"1\" class=\"dataframe\">\n",
       "  <thead>\n",
       "    <tr style=\"text-align: right;\">\n",
       "      <th></th>\n",
       "      <th>fruitPrice</th>\n",
       "      <th>num</th>\n",
       "    </tr>\n",
       "  </thead>\n",
       "  <tbody>\n",
       "    <tr>\n",
       "      <th>apple</th>\n",
       "      <td>2500</td>\n",
       "      <td>10</td>\n",
       "    </tr>\n",
       "    <tr>\n",
       "      <th>banana</th>\n",
       "      <td>3800</td>\n",
       "      <td>5</td>\n",
       "    </tr>\n",
       "  </tbody>\n",
       "</table>\n",
       "</div>"
      ],
      "text/plain": [
       "        fruitPrice  num\n",
       "apple         2500   10\n",
       "banana        3800    5"
      ]
     },
     "execution_count": 49,
     "metadata": {},
     "output_type": "execute_result"
    }
   ],
   "source": [
    "fruitFrame['apple':'banana']"
   ]
  },
  {
   "cell_type": "markdown",
   "id": "adaa280a",
   "metadata": {},
   "source": [
    "## 데이터의 기본연산\n",
    "\n",
    "Series의 연산"
   ]
  },
  {
   "cell_type": "code",
   "execution_count": 50,
   "id": "51469aa6",
   "metadata": {},
   "outputs": [],
   "source": [
    "fruit1 = Series([5,9,10,3], index = ['apple','banana','cherry','peer'])"
   ]
  },
  {
   "cell_type": "code",
   "execution_count": 51,
   "id": "0ddd1a04",
   "metadata": {},
   "outputs": [],
   "source": [
    "fruit2 = Series([3,2,9,5,10], index = ['apple','orange','banana','cherry','mango'])"
   ]
  },
  {
   "cell_type": "code",
   "execution_count": 52,
   "id": "01a66e11",
   "metadata": {},
   "outputs": [
    {
     "name": "stdout",
     "output_type": "stream",
     "text": [
      "apple      5\n",
      "banana     9\n",
      "cherry    10\n",
      "peer       3\n",
      "dtype: int64\n"
     ]
    }
   ],
   "source": [
    "print(fruit1)"
   ]
  },
  {
   "cell_type": "code",
   "execution_count": 53,
   "id": "87d33151",
   "metadata": {},
   "outputs": [
    {
     "name": "stdout",
     "output_type": "stream",
     "text": [
      "apple      3\n",
      "orange     2\n",
      "banana     9\n",
      "cherry     5\n",
      "mango     10\n",
      "dtype: int64\n"
     ]
    }
   ],
   "source": [
    "print(fruit2)"
   ]
  },
  {
   "cell_type": "code",
   "execution_count": 54,
   "id": "81385f2b",
   "metadata": {},
   "outputs": [
    {
     "data": {
      "text/plain": [
       "apple      8.0\n",
       "banana    18.0\n",
       "cherry    15.0\n",
       "mango      NaN\n",
       "orange     NaN\n",
       "peer       NaN\n",
       "dtype: float64"
      ]
     },
     "execution_count": 54,
     "metadata": {},
     "output_type": "execute_result"
    }
   ],
   "source": [
    "fruit1 + fruit2"
   ]
  },
  {
   "cell_type": "markdown",
   "id": "b0660090",
   "metadata": {},
   "source": [
    "Dataframe의 연산"
   ]
  },
  {
   "cell_type": "code",
   "execution_count": 55,
   "id": "b9f0e1ef",
   "metadata": {},
   "outputs": [],
   "source": [
    "fruitData1 = {'Ohio' : [4,8,3,5],'Texas' : [0,1,2,3]}\n",
    "fruitFrame1 = DataFrame(fruitData1,columns=['Ohio','Texas'],index = ['apple','banana','cherry','peer'])\n",
    "fruitData2 = {'Ohio' : [3,0,2,1,7],'Colorado':[5,4,3,6,0]}\n",
    "fruitFrame2 = DataFrame(fruitData2,columns =['Ohio','Colorado'],index = ['apple','orange','banana','cherry','mango'])"
   ]
  },
  {
   "cell_type": "code",
   "execution_count": 56,
   "id": "fbb406d6",
   "metadata": {},
   "outputs": [
    {
     "name": "stdout",
     "output_type": "stream",
     "text": [
      "        Ohio  Texas\n",
      "apple      4      0\n",
      "banana     8      1\n",
      "cherry     3      2\n",
      "peer       5      3\n"
     ]
    }
   ],
   "source": [
    "print(fruitFrame1)"
   ]
  },
  {
   "cell_type": "code",
   "execution_count": 57,
   "id": "28a48e03",
   "metadata": {},
   "outputs": [
    {
     "name": "stdout",
     "output_type": "stream",
     "text": [
      "        Ohio  Colorado\n",
      "apple      3         5\n",
      "orange     0         4\n",
      "banana     2         3\n",
      "cherry     1         6\n",
      "mango      7         0\n"
     ]
    }
   ],
   "source": [
    "print(fruitFrame2)"
   ]
  },
  {
   "cell_type": "code",
   "execution_count": 58,
   "id": "a82e2b84",
   "metadata": {},
   "outputs": [
    {
     "data": {
      "text/html": [
       "<div>\n",
       "<style scoped>\n",
       "    .dataframe tbody tr th:only-of-type {\n",
       "        vertical-align: middle;\n",
       "    }\n",
       "\n",
       "    .dataframe tbody tr th {\n",
       "        vertical-align: top;\n",
       "    }\n",
       "\n",
       "    .dataframe thead th {\n",
       "        text-align: right;\n",
       "    }\n",
       "</style>\n",
       "<table border=\"1\" class=\"dataframe\">\n",
       "  <thead>\n",
       "    <tr style=\"text-align: right;\">\n",
       "      <th></th>\n",
       "      <th>Colorado</th>\n",
       "      <th>Ohio</th>\n",
       "      <th>Texas</th>\n",
       "    </tr>\n",
       "  </thead>\n",
       "  <tbody>\n",
       "    <tr>\n",
       "      <th>apple</th>\n",
       "      <td>NaN</td>\n",
       "      <td>7.0</td>\n",
       "      <td>NaN</td>\n",
       "    </tr>\n",
       "    <tr>\n",
       "      <th>banana</th>\n",
       "      <td>NaN</td>\n",
       "      <td>10.0</td>\n",
       "      <td>NaN</td>\n",
       "    </tr>\n",
       "    <tr>\n",
       "      <th>cherry</th>\n",
       "      <td>NaN</td>\n",
       "      <td>4.0</td>\n",
       "      <td>NaN</td>\n",
       "    </tr>\n",
       "    <tr>\n",
       "      <th>mango</th>\n",
       "      <td>NaN</td>\n",
       "      <td>NaN</td>\n",
       "      <td>NaN</td>\n",
       "    </tr>\n",
       "    <tr>\n",
       "      <th>orange</th>\n",
       "      <td>NaN</td>\n",
       "      <td>NaN</td>\n",
       "      <td>NaN</td>\n",
       "    </tr>\n",
       "    <tr>\n",
       "      <th>peer</th>\n",
       "      <td>NaN</td>\n",
       "      <td>NaN</td>\n",
       "      <td>NaN</td>\n",
       "    </tr>\n",
       "  </tbody>\n",
       "</table>\n",
       "</div>"
      ],
      "text/plain": [
       "        Colorado  Ohio  Texas\n",
       "apple        NaN   7.0    NaN\n",
       "banana       NaN  10.0    NaN\n",
       "cherry       NaN   4.0    NaN\n",
       "mango        NaN   NaN    NaN\n",
       "orange       NaN   NaN    NaN\n",
       "peer         NaN   NaN    NaN"
      ]
     },
     "execution_count": 58,
     "metadata": {},
     "output_type": "execute_result"
    }
   ],
   "source": [
    "fruitFrame1 + fruitFrame2"
   ]
  },
  {
   "cell_type": "markdown",
   "id": "a07cc974",
   "metadata": {},
   "source": [
    "Dataframe 은 column 이 존재하기 때문에 column 까지 같이 모두 함께 연산된다.\n",
    "컬럼 또한 NaN이 하나라도 존재하는 row는 모두 NaN 처리가 된다."
   ]
  },
  {
   "cell_type": "markdown",
   "id": "f2997625",
   "metadata": {},
   "source": [
    "## 데이터의 정렬\n",
    "\n",
    "Series의 정렬"
   ]
  },
  {
   "cell_type": "code",
   "execution_count": 59,
   "id": "6f6274cb",
   "metadata": {},
   "outputs": [],
   "source": [
    "fruit = Series([2500,3800,1200,6000],index=['apple','banana','peer','cherry'])"
   ]
  },
  {
   "cell_type": "code",
   "execution_count": 60,
   "id": "f103ff51",
   "metadata": {},
   "outputs": [
    {
     "data": {
      "text/plain": [
       "cherry    6000\n",
       "banana    3800\n",
       "apple     2500\n",
       "peer      1200\n",
       "dtype: int64"
      ]
     },
     "execution_count": 60,
     "metadata": {},
     "output_type": "execute_result"
    }
   ],
   "source": [
    "fruit.sort_values(ascending=False)"
   ]
  },
  {
   "cell_type": "markdown",
   "id": "aebde7a0",
   "metadata": {},
   "source": [
    "Dataframe의 정렬"
   ]
  },
  {
   "cell_type": "code",
   "execution_count": 61,
   "id": "3a0e1039",
   "metadata": {},
   "outputs": [],
   "source": [
    "fruitData = {'fruitName':['peer','banana','apple','cherry'], \n",
    "             'fruitPrice':[2500,3800,6000,1200],\n",
    "             'num':[10,5,3,8]}"
   ]
  },
  {
   "cell_type": "code",
   "execution_count": 62,
   "id": "3939f17b",
   "metadata": {},
   "outputs": [],
   "source": [
    "fruitName = fruitData['fruitName']"
   ]
  },
  {
   "cell_type": "code",
   "execution_count": 63,
   "id": "284780ff",
   "metadata": {},
   "outputs": [],
   "source": [
    "fruitFrame = DataFrame(fruitData, index = fruitName, columns = ['num','fruitPrice'])"
   ]
  },
  {
   "cell_type": "code",
   "execution_count": 64,
   "id": "9d8ad38c",
   "metadata": {},
   "outputs": [
    {
     "name": "stdout",
     "output_type": "stream",
     "text": [
      "        num  fruitPrice\n",
      "peer     10        2500\n",
      "banana    5        3800\n",
      "apple     3        6000\n",
      "cherry    8        1200\n"
     ]
    }
   ],
   "source": [
    "print(fruitFrame)"
   ]
  },
  {
   "cell_type": "code",
   "execution_count": 65,
   "id": "0e41ccf3",
   "metadata": {},
   "outputs": [
    {
     "data": {
      "text/html": [
       "<div>\n",
       "<style scoped>\n",
       "    .dataframe tbody tr th:only-of-type {\n",
       "        vertical-align: middle;\n",
       "    }\n",
       "\n",
       "    .dataframe tbody tr th {\n",
       "        vertical-align: top;\n",
       "    }\n",
       "\n",
       "    .dataframe thead th {\n",
       "        text-align: right;\n",
       "    }\n",
       "</style>\n",
       "<table border=\"1\" class=\"dataframe\">\n",
       "  <thead>\n",
       "    <tr style=\"text-align: right;\">\n",
       "      <th></th>\n",
       "      <th>num</th>\n",
       "      <th>fruitPrice</th>\n",
       "    </tr>\n",
       "  </thead>\n",
       "  <tbody>\n",
       "    <tr>\n",
       "      <th>apple</th>\n",
       "      <td>3</td>\n",
       "      <td>6000</td>\n",
       "    </tr>\n",
       "    <tr>\n",
       "      <th>banana</th>\n",
       "      <td>5</td>\n",
       "      <td>3800</td>\n",
       "    </tr>\n",
       "    <tr>\n",
       "      <th>cherry</th>\n",
       "      <td>8</td>\n",
       "      <td>1200</td>\n",
       "    </tr>\n",
       "    <tr>\n",
       "      <th>peer</th>\n",
       "      <td>10</td>\n",
       "      <td>2500</td>\n",
       "    </tr>\n",
       "  </tbody>\n",
       "</table>\n",
       "</div>"
      ],
      "text/plain": [
       "        num  fruitPrice\n",
       "apple     3        6000\n",
       "banana    5        3800\n",
       "cherry    8        1200\n",
       "peer     10        2500"
      ]
     },
     "execution_count": 65,
     "metadata": {},
     "output_type": "execute_result"
    }
   ],
   "source": [
    "fruitFrame.sort_index()"
   ]
  },
  {
   "cell_type": "code",
   "execution_count": 66,
   "id": "05277e51",
   "metadata": {},
   "outputs": [
    {
     "data": {
      "text/html": [
       "<div>\n",
       "<style scoped>\n",
       "    .dataframe tbody tr th:only-of-type {\n",
       "        vertical-align: middle;\n",
       "    }\n",
       "\n",
       "    .dataframe tbody tr th {\n",
       "        vertical-align: top;\n",
       "    }\n",
       "\n",
       "    .dataframe thead th {\n",
       "        text-align: right;\n",
       "    }\n",
       "</style>\n",
       "<table border=\"1\" class=\"dataframe\">\n",
       "  <thead>\n",
       "    <tr style=\"text-align: right;\">\n",
       "      <th></th>\n",
       "      <th>fruitPrice</th>\n",
       "      <th>num</th>\n",
       "    </tr>\n",
       "  </thead>\n",
       "  <tbody>\n",
       "    <tr>\n",
       "      <th>peer</th>\n",
       "      <td>2500</td>\n",
       "      <td>10</td>\n",
       "    </tr>\n",
       "    <tr>\n",
       "      <th>banana</th>\n",
       "      <td>3800</td>\n",
       "      <td>5</td>\n",
       "    </tr>\n",
       "    <tr>\n",
       "      <th>apple</th>\n",
       "      <td>6000</td>\n",
       "      <td>3</td>\n",
       "    </tr>\n",
       "    <tr>\n",
       "      <th>cherry</th>\n",
       "      <td>1200</td>\n",
       "      <td>8</td>\n",
       "    </tr>\n",
       "  </tbody>\n",
       "</table>\n",
       "</div>"
      ],
      "text/plain": [
       "        fruitPrice  num\n",
       "peer          2500   10\n",
       "banana        3800    5\n",
       "apple         6000    3\n",
       "cherry        1200    8"
      ]
     },
     "execution_count": 66,
     "metadata": {},
     "output_type": "execute_result"
    }
   ],
   "source": [
    "fruitFrame.sort_index(axis = 1)"
   ]
  },
  {
   "cell_type": "markdown",
   "id": "42852c8f",
   "metadata": {},
   "source": [
    "Dataframe의 값 정렬"
   ]
  },
  {
   "cell_type": "code",
   "execution_count": 67,
   "id": "59daa881",
   "metadata": {},
   "outputs": [
    {
     "data": {
      "text/html": [
       "<div>\n",
       "<style scoped>\n",
       "    .dataframe tbody tr th:only-of-type {\n",
       "        vertical-align: middle;\n",
       "    }\n",
       "\n",
       "    .dataframe tbody tr th {\n",
       "        vertical-align: top;\n",
       "    }\n",
       "\n",
       "    .dataframe thead th {\n",
       "        text-align: right;\n",
       "    }\n",
       "</style>\n",
       "<table border=\"1\" class=\"dataframe\">\n",
       "  <thead>\n",
       "    <tr style=\"text-align: right;\">\n",
       "      <th></th>\n",
       "      <th>num</th>\n",
       "      <th>fruitPrice</th>\n",
       "    </tr>\n",
       "  </thead>\n",
       "  <tbody>\n",
       "    <tr>\n",
       "      <th>cherry</th>\n",
       "      <td>8</td>\n",
       "      <td>1200</td>\n",
       "    </tr>\n",
       "    <tr>\n",
       "      <th>peer</th>\n",
       "      <td>10</td>\n",
       "      <td>2500</td>\n",
       "    </tr>\n",
       "    <tr>\n",
       "      <th>banana</th>\n",
       "      <td>5</td>\n",
       "      <td>3800</td>\n",
       "    </tr>\n",
       "    <tr>\n",
       "      <th>apple</th>\n",
       "      <td>3</td>\n",
       "      <td>6000</td>\n",
       "    </tr>\n",
       "  </tbody>\n",
       "</table>\n",
       "</div>"
      ],
      "text/plain": [
       "        num  fruitPrice\n",
       "cherry    8        1200\n",
       "peer     10        2500\n",
       "banana    5        3800\n",
       "apple     3        6000"
      ]
     },
     "execution_count": 67,
     "metadata": {},
     "output_type": "execute_result"
    }
   ],
   "source": [
    "fruitFrame.sort_values(by=['fruitPrice'])"
   ]
  },
  {
   "cell_type": "markdown",
   "id": "1f7860d9",
   "metadata": {},
   "source": [
    "기준을 여러 컬럼으로 하고 싶을 때는 by 안의 리스트에 여러개의 컬럼 이름을 지정하면 된다."
   ]
  },
  {
   "cell_type": "markdown",
   "id": "82d9e5c7",
   "metadata": {},
   "source": [
    "## 기초분석\n",
    "\n",
    "Pandas는 데이터를 구조적인 측면에서 좀 더 편하게 다룰 수 있게 하는 장점을 모아서 만든 패키지로 Pandas에서 제공하는 통계 분석은 기술 통계 및 데이터 요약이다. 고급 통계 기법은 scikit-learn이나 다른 통계 패키지를 이용하여 수행 할 수 있다."
   ]
  },
  {
   "cell_type": "markdown",
   "id": "cf29e7c2",
   "metadata": {},
   "source": [
    "## 기술 통계량"
   ]
  },
  {
   "cell_type": "markdown",
   "id": "fb98977e",
   "metadata": {},
   "source": [
    "![기술통계량](images/numpy-5.png)"
   ]
  },
  {
   "cell_type": "markdown",
   "id": "8ed2625c",
   "metadata": {},
   "source": [
    "German credit data 입력"
   ]
  },
  {
   "cell_type": "code",
   "execution_count": 69,
   "id": "a0e0c1a1",
   "metadata": {},
   "outputs": [],
   "source": [
    "german = pd.read_csv('http://freakonometrics.free.fr/german_credit.csv')"
   ]
  },
  {
   "cell_type": "code",
   "execution_count": 70,
   "id": "52b51d9e",
   "metadata": {},
   "outputs": [
    {
     "data": {
      "text/plain": [
       "['Creditability',\n",
       " 'Account Balance',\n",
       " 'Duration of Credit (month)',\n",
       " 'Payment Status of Previous Credit',\n",
       " 'Purpose',\n",
       " 'Credit Amount',\n",
       " 'Value Savings/Stocks',\n",
       " 'Length of current employment',\n",
       " 'Instalment per cent',\n",
       " 'Sex & Marital Status',\n",
       " 'Guarantors',\n",
       " 'Duration in Current address',\n",
       " 'Most valuable available asset',\n",
       " 'Age (years)',\n",
       " 'Concurrent Credits',\n",
       " 'Type of apartment',\n",
       " 'No of Credits at this Bank',\n",
       " 'Occupation',\n",
       " 'No of dependents',\n",
       " 'Telephone',\n",
       " 'Foreign Worker']"
      ]
     },
     "execution_count": 70,
     "metadata": {},
     "output_type": "execute_result"
    }
   ],
   "source": [
    "list(german.columns.values)"
   ]
  },
  {
   "cell_type": "markdown",
   "id": "9d4263b9",
   "metadata": {},
   "source": [
    "pd.read_csv function을 통해 개인 컴퓨터의 데이터도 가져올 수 있지만 웹의 데이터도 가져올 수 있다. Cloumns.values function을 통해 어떤 컬럼들이 있는지 알아볼 수 있다."
   ]
  },
  {
   "cell_type": "code",
   "execution_count": 71,
   "id": "c6fb5198",
   "metadata": {},
   "outputs": [],
   "source": [
    "german_sample=german[['Creditability','Duration of Credit (month)','Purpose','Credit Amount']]"
   ]
  },
  {
   "cell_type": "code",
   "execution_count": 72,
   "id": "47c4d9a6",
   "metadata": {},
   "outputs": [
    {
     "data": {
      "text/html": [
       "<div>\n",
       "<style scoped>\n",
       "    .dataframe tbody tr th:only-of-type {\n",
       "        vertical-align: middle;\n",
       "    }\n",
       "\n",
       "    .dataframe tbody tr th {\n",
       "        vertical-align: top;\n",
       "    }\n",
       "\n",
       "    .dataframe thead th {\n",
       "        text-align: right;\n",
       "    }\n",
       "</style>\n",
       "<table border=\"1\" class=\"dataframe\">\n",
       "  <thead>\n",
       "    <tr style=\"text-align: right;\">\n",
       "      <th></th>\n",
       "      <th>Creditability</th>\n",
       "      <th>Duration of Credit (month)</th>\n",
       "      <th>Purpose</th>\n",
       "      <th>Credit Amount</th>\n",
       "    </tr>\n",
       "  </thead>\n",
       "  <tbody>\n",
       "    <tr>\n",
       "      <th>0</th>\n",
       "      <td>1</td>\n",
       "      <td>18</td>\n",
       "      <td>2</td>\n",
       "      <td>1049</td>\n",
       "    </tr>\n",
       "    <tr>\n",
       "      <th>1</th>\n",
       "      <td>1</td>\n",
       "      <td>9</td>\n",
       "      <td>0</td>\n",
       "      <td>2799</td>\n",
       "    </tr>\n",
       "    <tr>\n",
       "      <th>2</th>\n",
       "      <td>1</td>\n",
       "      <td>12</td>\n",
       "      <td>9</td>\n",
       "      <td>841</td>\n",
       "    </tr>\n",
       "    <tr>\n",
       "      <th>3</th>\n",
       "      <td>1</td>\n",
       "      <td>12</td>\n",
       "      <td>0</td>\n",
       "      <td>2122</td>\n",
       "    </tr>\n",
       "    <tr>\n",
       "      <th>4</th>\n",
       "      <td>1</td>\n",
       "      <td>12</td>\n",
       "      <td>0</td>\n",
       "      <td>2171</td>\n",
       "    </tr>\n",
       "    <tr>\n",
       "      <th>...</th>\n",
       "      <td>...</td>\n",
       "      <td>...</td>\n",
       "      <td>...</td>\n",
       "      <td>...</td>\n",
       "    </tr>\n",
       "    <tr>\n",
       "      <th>995</th>\n",
       "      <td>0</td>\n",
       "      <td>24</td>\n",
       "      <td>3</td>\n",
       "      <td>1987</td>\n",
       "    </tr>\n",
       "    <tr>\n",
       "      <th>996</th>\n",
       "      <td>0</td>\n",
       "      <td>24</td>\n",
       "      <td>0</td>\n",
       "      <td>2303</td>\n",
       "    </tr>\n",
       "    <tr>\n",
       "      <th>997</th>\n",
       "      <td>0</td>\n",
       "      <td>21</td>\n",
       "      <td>0</td>\n",
       "      <td>12680</td>\n",
       "    </tr>\n",
       "    <tr>\n",
       "      <th>998</th>\n",
       "      <td>0</td>\n",
       "      <td>12</td>\n",
       "      <td>3</td>\n",
       "      <td>6468</td>\n",
       "    </tr>\n",
       "    <tr>\n",
       "      <th>999</th>\n",
       "      <td>0</td>\n",
       "      <td>30</td>\n",
       "      <td>2</td>\n",
       "      <td>6350</td>\n",
       "    </tr>\n",
       "  </tbody>\n",
       "</table>\n",
       "<p>1000 rows × 4 columns</p>\n",
       "</div>"
      ],
      "text/plain": [
       "     Creditability  Duration of Credit (month)  Purpose  Credit Amount\n",
       "0                1                          18        2           1049\n",
       "1                1                           9        0           2799\n",
       "2                1                          12        9            841\n",
       "3                1                          12        0           2122\n",
       "4                1                          12        0           2171\n",
       "..             ...                         ...      ...            ...\n",
       "995              0                          24        3           1987\n",
       "996              0                          24        0           2303\n",
       "997              0                          21        0          12680\n",
       "998              0                          12        3           6468\n",
       "999              0                          30        2           6350\n",
       "\n",
       "[1000 rows x 4 columns]"
      ]
     },
     "execution_count": 72,
     "metadata": {},
     "output_type": "execute_result"
    }
   ],
   "source": [
    "german_sample"
   ]
  },
  {
   "cell_type": "code",
   "execution_count": 73,
   "id": "2b9d91ab",
   "metadata": {},
   "outputs": [
    {
     "data": {
      "text/plain": [
       "Creditability                   0\n",
       "Duration of Credit (month)      4\n",
       "Purpose                         0\n",
       "Credit Amount                 250\n",
       "dtype: int64"
      ]
     },
     "execution_count": 73,
     "metadata": {},
     "output_type": "execute_result"
    }
   ],
   "source": [
    "german_sample.min()"
   ]
  },
  {
   "cell_type": "code",
   "execution_count": 74,
   "id": "bcea8024",
   "metadata": {},
   "outputs": [
    {
     "data": {
      "text/plain": [
       "Creditability                     1\n",
       "Duration of Credit (month)       72\n",
       "Purpose                          10\n",
       "Credit Amount                 18424\n",
       "dtype: int64"
      ]
     },
     "execution_count": 74,
     "metadata": {},
     "output_type": "execute_result"
    }
   ],
   "source": [
    "german_sample.max()"
   ]
  },
  {
   "cell_type": "code",
   "execution_count": 75,
   "id": "0f5b7927",
   "metadata": {},
   "outputs": [
    {
     "data": {
      "text/plain": [
       "Creditability                    0.700\n",
       "Duration of Credit (month)      20.903\n",
       "Purpose                          2.828\n",
       "Credit Amount                 3271.248\n",
       "dtype: float64"
      ]
     },
     "execution_count": 75,
     "metadata": {},
     "output_type": "execute_result"
    }
   ],
   "source": [
    "german_sample.mean()"
   ]
  },
  {
   "cell_type": "code",
   "execution_count": 76,
   "id": "c5cfc37f",
   "metadata": {},
   "outputs": [
    {
     "data": {
      "text/plain": [
       "<bound method NDFrame.describe of      Creditability  Duration of Credit (month)  Purpose  Credit Amount\n",
       "0                1                          18        2           1049\n",
       "1                1                           9        0           2799\n",
       "2                1                          12        9            841\n",
       "3                1                          12        0           2122\n",
       "4                1                          12        0           2171\n",
       "..             ...                         ...      ...            ...\n",
       "995              0                          24        3           1987\n",
       "996              0                          24        0           2303\n",
       "997              0                          21        0          12680\n",
       "998              0                          12        3           6468\n",
       "999              0                          30        2           6350\n",
       "\n",
       "[1000 rows x 4 columns]>"
      ]
     },
     "execution_count": 76,
     "metadata": {},
     "output_type": "execute_result"
    }
   ],
   "source": [
    "#요약통계\n",
    "german_sample.describe"
   ]
  },
  {
   "cell_type": "markdown",
   "id": "5506414b",
   "metadata": {},
   "source": [
    "## 상관관계와 공분산\n",
    "\n",
    "공분산(Covariance) : X의 편차와 Y의 편차를 곱한 것의 평균, X와 Y의 단위에 영향을 받는다.\n",
    "\n",
    "상관계수(Correlation) : 확률변수의 절대적 크기에 영향을 받지 않도록 단위화, 분산의 크기만큼 나눔"
   ]
  },
  {
   "cell_type": "code",
   "execution_count": 77,
   "id": "effdcc7b",
   "metadata": {},
   "outputs": [],
   "source": [
    "german_sample=german[['Duration of Credit (month)','Credit Amount','Age (years)']]"
   ]
  },
  {
   "cell_type": "code",
   "execution_count": 78,
   "id": "d10ff3f2",
   "metadata": {},
   "outputs": [
    {
     "data": {
      "text/html": [
       "<div>\n",
       "<style scoped>\n",
       "    .dataframe tbody tr th:only-of-type {\n",
       "        vertical-align: middle;\n",
       "    }\n",
       "\n",
       "    .dataframe tbody tr th {\n",
       "        vertical-align: top;\n",
       "    }\n",
       "\n",
       "    .dataframe thead th {\n",
       "        text-align: right;\n",
       "    }\n",
       "</style>\n",
       "<table border=\"1\" class=\"dataframe\">\n",
       "  <thead>\n",
       "    <tr style=\"text-align: right;\">\n",
       "      <th></th>\n",
       "      <th>Duration of Credit (month)</th>\n",
       "      <th>Credit Amount</th>\n",
       "      <th>Age (years)</th>\n",
       "    </tr>\n",
       "  </thead>\n",
       "  <tbody>\n",
       "    <tr>\n",
       "      <th>0</th>\n",
       "      <td>18</td>\n",
       "      <td>1049</td>\n",
       "      <td>21</td>\n",
       "    </tr>\n",
       "    <tr>\n",
       "      <th>1</th>\n",
       "      <td>9</td>\n",
       "      <td>2799</td>\n",
       "      <td>36</td>\n",
       "    </tr>\n",
       "    <tr>\n",
       "      <th>2</th>\n",
       "      <td>12</td>\n",
       "      <td>841</td>\n",
       "      <td>23</td>\n",
       "    </tr>\n",
       "    <tr>\n",
       "      <th>3</th>\n",
       "      <td>12</td>\n",
       "      <td>2122</td>\n",
       "      <td>39</td>\n",
       "    </tr>\n",
       "    <tr>\n",
       "      <th>4</th>\n",
       "      <td>12</td>\n",
       "      <td>2171</td>\n",
       "      <td>38</td>\n",
       "    </tr>\n",
       "  </tbody>\n",
       "</table>\n",
       "</div>"
      ],
      "text/plain": [
       "   Duration of Credit (month)  Credit Amount  Age (years)\n",
       "0                          18           1049           21\n",
       "1                           9           2799           36\n",
       "2                          12            841           23\n",
       "3                          12           2122           39\n",
       "4                          12           2171           38"
      ]
     },
     "execution_count": 78,
     "metadata": {},
     "output_type": "execute_result"
    }
   ],
   "source": [
    "german_sample.head()"
   ]
  },
  {
   "cell_type": "code",
   "execution_count": 79,
   "id": "f4331f9a",
   "metadata": {},
   "outputs": [
    {
     "data": {
      "text/html": [
       "<div>\n",
       "<style scoped>\n",
       "    .dataframe tbody tr th:only-of-type {\n",
       "        vertical-align: middle;\n",
       "    }\n",
       "\n",
       "    .dataframe tbody tr th {\n",
       "        vertical-align: top;\n",
       "    }\n",
       "\n",
       "    .dataframe thead th {\n",
       "        text-align: right;\n",
       "    }\n",
       "</style>\n",
       "<table border=\"1\" class=\"dataframe\">\n",
       "  <thead>\n",
       "    <tr style=\"text-align: right;\">\n",
       "      <th></th>\n",
       "      <th>Duration of Credit (month)</th>\n",
       "      <th>Credit Amount</th>\n",
       "      <th>Age (years)</th>\n",
       "    </tr>\n",
       "  </thead>\n",
       "  <tbody>\n",
       "    <tr>\n",
       "      <th>Duration of Credit (month)</th>\n",
       "      <td>1.000000</td>\n",
       "      <td>0.624988</td>\n",
       "      <td>-0.037550</td>\n",
       "    </tr>\n",
       "    <tr>\n",
       "      <th>Credit Amount</th>\n",
       "      <td>0.624988</td>\n",
       "      <td>1.000000</td>\n",
       "      <td>0.032273</td>\n",
       "    </tr>\n",
       "    <tr>\n",
       "      <th>Age (years)</th>\n",
       "      <td>-0.037550</td>\n",
       "      <td>0.032273</td>\n",
       "      <td>1.000000</td>\n",
       "    </tr>\n",
       "  </tbody>\n",
       "</table>\n",
       "</div>"
      ],
      "text/plain": [
       "                            Duration of Credit (month)  Credit Amount  \\\n",
       "Duration of Credit (month)                    1.000000       0.624988   \n",
       "Credit Amount                                 0.624988       1.000000   \n",
       "Age (years)                                  -0.037550       0.032273   \n",
       "\n",
       "                            Age (years)  \n",
       "Duration of Credit (month)    -0.037550  \n",
       "Credit Amount                  0.032273  \n",
       "Age (years)                    1.000000  "
      ]
     },
     "execution_count": 79,
     "metadata": {},
     "output_type": "execute_result"
    }
   ],
   "source": [
    "#상관계수\n",
    "german_sample.corr()"
   ]
  },
  {
   "cell_type": "code",
   "execution_count": 80,
   "id": "c02dbe63",
   "metadata": {},
   "outputs": [
    {
     "data": {
      "text/html": [
       "<div>\n",
       "<style scoped>\n",
       "    .dataframe tbody tr th:only-of-type {\n",
       "        vertical-align: middle;\n",
       "    }\n",
       "\n",
       "    .dataframe tbody tr th {\n",
       "        vertical-align: top;\n",
       "    }\n",
       "\n",
       "    .dataframe thead th {\n",
       "        text-align: right;\n",
       "    }\n",
       "</style>\n",
       "<table border=\"1\" class=\"dataframe\">\n",
       "  <thead>\n",
       "    <tr style=\"text-align: right;\">\n",
       "      <th></th>\n",
       "      <th>Duration of Credit (month)</th>\n",
       "      <th>Credit Amount</th>\n",
       "      <th>Age (years)</th>\n",
       "    </tr>\n",
       "  </thead>\n",
       "  <tbody>\n",
       "    <tr>\n",
       "      <th>Duration of Credit (month)</th>\n",
       "      <td>145.415006</td>\n",
       "      <td>2.127401e+04</td>\n",
       "      <td>-5.140567</td>\n",
       "    </tr>\n",
       "    <tr>\n",
       "      <th>Credit Amount</th>\n",
       "      <td>21274.007063</td>\n",
       "      <td>7.967927e+06</td>\n",
       "      <td>1034.202787</td>\n",
       "    </tr>\n",
       "    <tr>\n",
       "      <th>Age (years)</th>\n",
       "      <td>-5.140567</td>\n",
       "      <td>1.034203e+03</td>\n",
       "      <td>128.883119</td>\n",
       "    </tr>\n",
       "  </tbody>\n",
       "</table>\n",
       "</div>"
      ],
      "text/plain": [
       "                            Duration of Credit (month)  Credit Amount  \\\n",
       "Duration of Credit (month)                  145.415006   2.127401e+04   \n",
       "Credit Amount                             21274.007063   7.967927e+06   \n",
       "Age (years)                                  -5.140567   1.034203e+03   \n",
       "\n",
       "                            Age (years)  \n",
       "Duration of Credit (month)    -5.140567  \n",
       "Credit Amount               1034.202787  \n",
       "Age (years)                  128.883119  "
      ]
     },
     "execution_count": 80,
     "metadata": {},
     "output_type": "execute_result"
    }
   ],
   "source": [
    "#공분산\n",
    "german_sample.cov()"
   ]
  },
  {
   "cell_type": "markdown",
   "id": "fcf77ed8",
   "metadata": {},
   "source": [
    "## 핵심기능 Group by\n",
    "\n",
    "Group by는 데이터를 구분 할 수 있는 컬럼의 값들을 이용하여 데이터를 여러 기준에 의해 구분 한 뒤 계산 및 순회 등 함수의 계산을 할 수 있는 방법이다. 이런 Group by를 통해 계산하고 반복문을 활용하는 방법을 설명한다. "
   ]
  },
  {
   "cell_type": "markdown",
   "id": "892583af",
   "metadata": {},
   "source": [
    "## Group by를 이용한 계산 및 요약 통계\n",
    "\n",
    "한 개 그룹 요약 통계 "
   ]
  },
  {
   "cell_type": "code",
   "execution_count": 81,
   "id": "2c56c6df",
   "metadata": {},
   "outputs": [],
   "source": [
    "german_sample = german[['Credit Amount','Type of apartment']]"
   ]
  },
  {
   "cell_type": "code",
   "execution_count": 82,
   "id": "60725c32",
   "metadata": {},
   "outputs": [
    {
     "data": {
      "text/html": [
       "<div>\n",
       "<style scoped>\n",
       "    .dataframe tbody tr th:only-of-type {\n",
       "        vertical-align: middle;\n",
       "    }\n",
       "\n",
       "    .dataframe tbody tr th {\n",
       "        vertical-align: top;\n",
       "    }\n",
       "\n",
       "    .dataframe thead th {\n",
       "        text-align: right;\n",
       "    }\n",
       "</style>\n",
       "<table border=\"1\" class=\"dataframe\">\n",
       "  <thead>\n",
       "    <tr style=\"text-align: right;\">\n",
       "      <th></th>\n",
       "      <th>Credit Amount</th>\n",
       "      <th>Type of apartment</th>\n",
       "    </tr>\n",
       "  </thead>\n",
       "  <tbody>\n",
       "    <tr>\n",
       "      <th>0</th>\n",
       "      <td>1049</td>\n",
       "      <td>1</td>\n",
       "    </tr>\n",
       "    <tr>\n",
       "      <th>1</th>\n",
       "      <td>2799</td>\n",
       "      <td>1</td>\n",
       "    </tr>\n",
       "    <tr>\n",
       "      <th>2</th>\n",
       "      <td>841</td>\n",
       "      <td>1</td>\n",
       "    </tr>\n",
       "    <tr>\n",
       "      <th>3</th>\n",
       "      <td>2122</td>\n",
       "      <td>1</td>\n",
       "    </tr>\n",
       "    <tr>\n",
       "      <th>4</th>\n",
       "      <td>2171</td>\n",
       "      <td>2</td>\n",
       "    </tr>\n",
       "    <tr>\n",
       "      <th>...</th>\n",
       "      <td>...</td>\n",
       "      <td>...</td>\n",
       "    </tr>\n",
       "    <tr>\n",
       "      <th>995</th>\n",
       "      <td>1987</td>\n",
       "      <td>1</td>\n",
       "    </tr>\n",
       "    <tr>\n",
       "      <th>996</th>\n",
       "      <td>2303</td>\n",
       "      <td>2</td>\n",
       "    </tr>\n",
       "    <tr>\n",
       "      <th>997</th>\n",
       "      <td>12680</td>\n",
       "      <td>3</td>\n",
       "    </tr>\n",
       "    <tr>\n",
       "      <th>998</th>\n",
       "      <td>6468</td>\n",
       "      <td>2</td>\n",
       "    </tr>\n",
       "    <tr>\n",
       "      <th>999</th>\n",
       "      <td>6350</td>\n",
       "      <td>2</td>\n",
       "    </tr>\n",
       "  </tbody>\n",
       "</table>\n",
       "<p>1000 rows × 2 columns</p>\n",
       "</div>"
      ],
      "text/plain": [
       "     Credit Amount  Type of apartment\n",
       "0             1049                  1\n",
       "1             2799                  1\n",
       "2              841                  1\n",
       "3             2122                  1\n",
       "4             2171                  2\n",
       "..             ...                ...\n",
       "995           1987                  1\n",
       "996           2303                  2\n",
       "997          12680                  3\n",
       "998           6468                  2\n",
       "999           6350                  2\n",
       "\n",
       "[1000 rows x 2 columns]"
      ]
     },
     "execution_count": 82,
     "metadata": {},
     "output_type": "execute_result"
    }
   ],
   "source": [
    "german_sample"
   ]
  },
  {
   "cell_type": "code",
   "execution_count": 83,
   "id": "78acbc6b",
   "metadata": {},
   "outputs": [],
   "source": [
    "german_grouped = german_sample['Credit Amount'].groupby(german_sample['Type of apartment'])"
   ]
  },
  {
   "cell_type": "code",
   "execution_count": 84,
   "id": "fee1eaf7",
   "metadata": {},
   "outputs": [
    {
     "data": {
      "text/plain": [
       "Type of apartment\n",
       "1    3122.553073\n",
       "2    3067.257703\n",
       "3    4881.205607\n",
       "Name: Credit Amount, dtype: float64"
      ]
     },
     "execution_count": 84,
     "metadata": {},
     "output_type": "execute_result"
    }
   ],
   "source": [
    "german_grouped.mean()"
   ]
  },
  {
   "cell_type": "code",
   "execution_count": 85,
   "id": "c98b2c2b",
   "metadata": {},
   "outputs": [],
   "source": [
    "german_sample = german[['Credit Amount','Type of apartment','Purpose']]\n",
    "german_grouped2=german_sample['Credit Amount'].groupby([german_sample['Purpose'],german_sample['Type of apartment']])"
   ]
  },
  {
   "cell_type": "code",
   "execution_count": 86,
   "id": "edf3dd08",
   "metadata": {},
   "outputs": [
    {
     "data": {
      "text/plain": [
       "Purpose  Type of apartment\n",
       "0        1                    2597.225000\n",
       "         2                    2811.024242\n",
       "         3                    5138.689655\n",
       "1        1                    5037.086957\n",
       "         2                    4915.222222\n",
       "         3                    6609.923077\n",
       "2        1                    2727.354167\n",
       "         2                    3107.450820\n",
       "         3                    4100.181818\n",
       "3        1                    2199.763158\n",
       "         2                    2540.533040\n",
       "         3                    2417.333333\n",
       "4        1                    1255.500000\n",
       "         2                    1546.500000\n",
       "5        1                    1522.000000\n",
       "         2                    2866.000000\n",
       "         3                    2750.666667\n",
       "6        1                    3156.444444\n",
       "         2                    2492.423077\n",
       "         3                    4387.266667\n",
       "8        1                     902.000000\n",
       "         2                    1243.875000\n",
       "9        1                    5614.125000\n",
       "         2                    3800.592105\n",
       "         3                    4931.800000\n",
       "10       2                    8576.111111\n",
       "         3                    7109.000000\n",
       "Name: Credit Amount, dtype: float64"
      ]
     },
     "execution_count": 86,
     "metadata": {},
     "output_type": "execute_result"
    }
   ],
   "source": [
    "german_grouped2.mean()"
   ]
  },
  {
   "cell_type": "markdown",
   "id": "5799b031",
   "metadata": {},
   "source": [
    "group을 두 가지 이상으로 지정하고 싶을 때는 리스트를 통해 그룹을 두 개로 지정하면 된다."
   ]
  },
  {
   "cell_type": "markdown",
   "id": "e506fab8",
   "metadata": {},
   "source": [
    "## Group간에 반복하기\n",
    "\n",
    "한 개 그룹 반복"
   ]
  },
  {
   "cell_type": "code",
   "execution_count": 89,
   "id": "0ae510cf",
   "metadata": {},
   "outputs": [],
   "source": [
    "german=pd.read_csv(\"http://freakonometrics.free.fr/german_credit.csv\") \n",
    "german_sample=german[['Type of apartment','Sex & Marital Status','Credit Amount']]"
   ]
  },
  {
   "cell_type": "code",
   "execution_count": 90,
   "id": "ad38f4f4",
   "metadata": {},
   "outputs": [
    {
     "name": "stdout",
     "output_type": "stream",
     "text": [
      "1\n",
      "   Type of apartment  Sex & Marital Status  Credit Amount\n",
      "0                  1                     2           1049\n",
      "1                  1                     3           2799\n",
      "2                  1                     2            841\n",
      "2\n",
      "   Type of apartment  Sex & Marital Status  Credit Amount\n",
      "4                  2                     3           2171\n",
      "6                  2                     3           3398\n",
      "7                  2                     3           1361\n",
      "3\n",
      "    Type of apartment  Sex & Marital Status  Credit Amount\n",
      "29                  3                     3           4796\n",
      "44                  3                     3           1239\n",
      "69                  3                     3           2032\n"
     ]
    }
   ],
   "source": [
    "for type , group in german_sample.groupby('Type of apartment'):\n",
    "    print(type) \n",
    "    print(group.head(n=3))"
   ]
  },
  {
   "cell_type": "markdown",
   "id": "2ed72419",
   "metadata": {},
   "source": [
    "두 개 그룹 반복"
   ]
  },
  {
   "cell_type": "code",
   "execution_count": 91,
   "id": "12628d90",
   "metadata": {},
   "outputs": [
    {
     "name": "stdout",
     "output_type": "stream",
     "text": [
      "(1, 1)\n",
      "     Type of apartment  Sex & Marital Status  Credit Amount\n",
      "369                  1                     1           3021\n",
      "777                  1                     1           3384\n",
      "797                  1                     1           2319\n",
      "(1, 2)\n",
      "   Type of apartment  Sex & Marital Status  Credit Amount\n",
      "0                  1                     2           1049\n",
      "2                  1                     2            841\n",
      "9                  1                     2           3758\n",
      "(1, 3)\n",
      "   Type of apartment  Sex & Marital Status  Credit Amount\n",
      "1                  1                     3           2799\n",
      "3                  1                     3           2122\n",
      "5                  1                     3           2241\n",
      "(1, 4)\n",
      "    Type of apartment  Sex & Marital Status  Credit Amount\n",
      "11                  1                     4           6187\n",
      "14                  1                     4           1936\n",
      "17                  1                     4           3213\n",
      "(2, 1)\n",
      "     Type of apartment  Sex & Marital Status  Credit Amount\n",
      "50                   2                     1            640\n",
      "97                   2                     1           4455\n",
      "112                  2                     1           2366\n",
      "(2, 2)\n",
      "    Type of apartment  Sex & Marital Status  Credit Amount\n",
      "8                   2                     2           1098\n",
      "12                  2                     2           1957\n",
      "33                  2                     2           1376\n",
      "(2, 3)\n",
      "   Type of apartment  Sex & Marital Status  Credit Amount\n",
      "4                  2                     3           2171\n",
      "6                  2                     3           3398\n",
      "7                  2                     3           1361\n",
      "(2, 4)\n",
      "    Type of apartment  Sex & Marital Status  Credit Amount\n",
      "48                  2                     4           1474\n",
      "57                  2                     4           1053\n",
      "78                  2                     4           1602\n",
      "(3, 1)\n",
      "     Type of apartment  Sex & Marital Status  Credit Amount\n",
      "620                  3                     1           9277\n",
      "749                  3                     1           2892\n",
      "784                  3                     1           2149\n",
      "(3, 2)\n",
      "     Type of apartment  Sex & Marital Status  Credit Amount\n",
      "423                  3                     2           2133\n",
      "453                  3                     2           5743\n",
      "467                  3                     2           5324\n",
      "(3, 3)\n",
      "    Type of apartment  Sex & Marital Status  Credit Amount\n",
      "29                  3                     3           4796\n",
      "44                  3                     3           1239\n",
      "69                  3                     3           2032\n",
      "(3, 4)\n",
      "     Type of apartment  Sex & Marital Status  Credit Amount\n",
      "125                  3                     4           5103\n"
     ]
    }
   ],
   "source": [
    "for (type,sex), group in german_sample.groupby(['Type of apartment','Sex & Marital Status']): \n",
    "    print((type,sex))\n",
    "    print(group.head(n=3))"
   ]
  },
  {
   "cell_type": "markdown",
   "id": "f9dd8937",
   "metadata": {},
   "source": [
    "## 데이터 분석 예제 행성데이터\n",
    "\n",
    "Seaborn 패키지에서 제공 받을 수 있는 행성 데이터 세트를 사용한다. \n",
    "Seaborn 패키디는 천문학자가 다른 별 주변에서 발견한 행성에대 대한 정보를 제공하며 2014년까지 발견된 1000개 이상의 외계 행성에 대한 세부 정보를 담고 있다. "
   ]
  },
  {
   "cell_type": "code",
   "execution_count": 92,
   "id": "5685cd54",
   "metadata": {},
   "outputs": [
    {
     "data": {
      "text/plain": [
       "(1035, 6)"
      ]
     },
     "execution_count": 92,
     "metadata": {},
     "output_type": "execute_result"
    }
   ],
   "source": [
    "import seaborn as sns\n",
    "planets = sns.load_dataset('planets')\n",
    "planets.shape"
   ]
  },
  {
   "cell_type": "code",
   "execution_count": 93,
   "id": "edda72b3",
   "metadata": {},
   "outputs": [
    {
     "data": {
      "text/plain": [
       "<bound method NDFrame.head of                method  number  orbital_period   mass  distance  year\n",
       "0     Radial Velocity       1      269.300000   7.10     77.40  2006\n",
       "1     Radial Velocity       1      874.774000   2.21     56.95  2008\n",
       "2     Radial Velocity       1      763.000000   2.60     19.84  2011\n",
       "3     Radial Velocity       1      326.030000  19.40    110.62  2007\n",
       "4     Radial Velocity       1      516.220000  10.50    119.47  2009\n",
       "...               ...     ...             ...    ...       ...   ...\n",
       "1030          Transit       1        3.941507    NaN    172.00  2006\n",
       "1031          Transit       1        2.615864    NaN    148.00  2007\n",
       "1032          Transit       1        3.191524    NaN    174.00  2007\n",
       "1033          Transit       1        4.125083    NaN    293.00  2008\n",
       "1034          Transit       1        4.187757    NaN    260.00  2008\n",
       "\n",
       "[1035 rows x 6 columns]>"
      ]
     },
     "execution_count": 93,
     "metadata": {},
     "output_type": "execute_result"
    }
   ],
   "source": [
    "planets.head"
   ]
  },
  {
   "cell_type": "code",
   "execution_count": 94,
   "id": "a5676c9e",
   "metadata": {},
   "outputs": [
    {
     "data": {
      "text/html": [
       "<div>\n",
       "<style scoped>\n",
       "    .dataframe tbody tr th:only-of-type {\n",
       "        vertical-align: middle;\n",
       "    }\n",
       "\n",
       "    .dataframe tbody tr th {\n",
       "        vertical-align: top;\n",
       "    }\n",
       "\n",
       "    .dataframe thead th {\n",
       "        text-align: right;\n",
       "    }\n",
       "</style>\n",
       "<table border=\"1\" class=\"dataframe\">\n",
       "  <thead>\n",
       "    <tr style=\"text-align: right;\">\n",
       "      <th></th>\n",
       "      <th>number</th>\n",
       "      <th>orbital_period</th>\n",
       "      <th>mass</th>\n",
       "      <th>distance</th>\n",
       "      <th>year</th>\n",
       "    </tr>\n",
       "  </thead>\n",
       "  <tbody>\n",
       "    <tr>\n",
       "      <th>count</th>\n",
       "      <td>498.00000</td>\n",
       "      <td>498.000000</td>\n",
       "      <td>498.000000</td>\n",
       "      <td>498.000000</td>\n",
       "      <td>498.000000</td>\n",
       "    </tr>\n",
       "    <tr>\n",
       "      <th>mean</th>\n",
       "      <td>1.73494</td>\n",
       "      <td>835.778671</td>\n",
       "      <td>2.509320</td>\n",
       "      <td>52.068213</td>\n",
       "      <td>2007.377510</td>\n",
       "    </tr>\n",
       "    <tr>\n",
       "      <th>std</th>\n",
       "      <td>1.17572</td>\n",
       "      <td>1469.128259</td>\n",
       "      <td>3.636274</td>\n",
       "      <td>46.596041</td>\n",
       "      <td>4.167284</td>\n",
       "    </tr>\n",
       "    <tr>\n",
       "      <th>min</th>\n",
       "      <td>1.00000</td>\n",
       "      <td>1.328300</td>\n",
       "      <td>0.003600</td>\n",
       "      <td>1.350000</td>\n",
       "      <td>1989.000000</td>\n",
       "    </tr>\n",
       "    <tr>\n",
       "      <th>25%</th>\n",
       "      <td>1.00000</td>\n",
       "      <td>38.272250</td>\n",
       "      <td>0.212500</td>\n",
       "      <td>24.497500</td>\n",
       "      <td>2005.000000</td>\n",
       "    </tr>\n",
       "    <tr>\n",
       "      <th>50%</th>\n",
       "      <td>1.00000</td>\n",
       "      <td>357.000000</td>\n",
       "      <td>1.245000</td>\n",
       "      <td>39.940000</td>\n",
       "      <td>2009.000000</td>\n",
       "    </tr>\n",
       "    <tr>\n",
       "      <th>75%</th>\n",
       "      <td>2.00000</td>\n",
       "      <td>999.600000</td>\n",
       "      <td>2.867500</td>\n",
       "      <td>59.332500</td>\n",
       "      <td>2011.000000</td>\n",
       "    </tr>\n",
       "    <tr>\n",
       "      <th>max</th>\n",
       "      <td>6.00000</td>\n",
       "      <td>17337.500000</td>\n",
       "      <td>25.000000</td>\n",
       "      <td>354.000000</td>\n",
       "      <td>2014.000000</td>\n",
       "    </tr>\n",
       "  </tbody>\n",
       "</table>\n",
       "</div>"
      ],
      "text/plain": [
       "          number  orbital_period        mass    distance         year\n",
       "count  498.00000      498.000000  498.000000  498.000000   498.000000\n",
       "mean     1.73494      835.778671    2.509320   52.068213  2007.377510\n",
       "std      1.17572     1469.128259    3.636274   46.596041     4.167284\n",
       "min      1.00000        1.328300    0.003600    1.350000  1989.000000\n",
       "25%      1.00000       38.272250    0.212500   24.497500  2005.000000\n",
       "50%      1.00000      357.000000    1.245000   39.940000  2009.000000\n",
       "75%      2.00000      999.600000    2.867500   59.332500  2011.000000\n",
       "max      6.00000    17337.500000   25.000000  354.000000  2014.000000"
      ]
     },
     "execution_count": 94,
     "metadata": {},
     "output_type": "execute_result"
    }
   ],
   "source": [
    "#dropna() 비여있는 값의 삭제\n",
    "planets.dropna().describe()"
   ]
  },
  {
   "cell_type": "code",
   "execution_count": 95,
   "id": "8f2ca684",
   "metadata": {},
   "outputs": [],
   "source": [
    "import pandas as pd\n",
    "\n",
    "births = pd.read_csv('https://raw.githubusercontent.com/jakevdp/data-CDCbirths/master/births.csv')"
   ]
  },
  {
   "cell_type": "code",
   "execution_count": 96,
   "id": "c03936fc",
   "metadata": {},
   "outputs": [
    {
     "data": {
      "text/html": [
       "<div>\n",
       "<style scoped>\n",
       "    .dataframe tbody tr th:only-of-type {\n",
       "        vertical-align: middle;\n",
       "    }\n",
       "\n",
       "    .dataframe tbody tr th {\n",
       "        vertical-align: top;\n",
       "    }\n",
       "\n",
       "    .dataframe thead th {\n",
       "        text-align: right;\n",
       "    }\n",
       "</style>\n",
       "<table border=\"1\" class=\"dataframe\">\n",
       "  <thead>\n",
       "    <tr style=\"text-align: right;\">\n",
       "      <th></th>\n",
       "      <th>year</th>\n",
       "      <th>month</th>\n",
       "      <th>day</th>\n",
       "      <th>gender</th>\n",
       "      <th>births</th>\n",
       "    </tr>\n",
       "  </thead>\n",
       "  <tbody>\n",
       "    <tr>\n",
       "      <th>0</th>\n",
       "      <td>1969</td>\n",
       "      <td>1</td>\n",
       "      <td>1.0</td>\n",
       "      <td>F</td>\n",
       "      <td>4046</td>\n",
       "    </tr>\n",
       "    <tr>\n",
       "      <th>1</th>\n",
       "      <td>1969</td>\n",
       "      <td>1</td>\n",
       "      <td>1.0</td>\n",
       "      <td>M</td>\n",
       "      <td>4440</td>\n",
       "    </tr>\n",
       "    <tr>\n",
       "      <th>2</th>\n",
       "      <td>1969</td>\n",
       "      <td>1</td>\n",
       "      <td>2.0</td>\n",
       "      <td>F</td>\n",
       "      <td>4454</td>\n",
       "    </tr>\n",
       "    <tr>\n",
       "      <th>3</th>\n",
       "      <td>1969</td>\n",
       "      <td>1</td>\n",
       "      <td>2.0</td>\n",
       "      <td>M</td>\n",
       "      <td>4548</td>\n",
       "    </tr>\n",
       "    <tr>\n",
       "      <th>4</th>\n",
       "      <td>1969</td>\n",
       "      <td>1</td>\n",
       "      <td>3.0</td>\n",
       "      <td>F</td>\n",
       "      <td>4548</td>\n",
       "    </tr>\n",
       "    <tr>\n",
       "      <th>...</th>\n",
       "      <td>...</td>\n",
       "      <td>...</td>\n",
       "      <td>...</td>\n",
       "      <td>...</td>\n",
       "      <td>...</td>\n",
       "    </tr>\n",
       "    <tr>\n",
       "      <th>15542</th>\n",
       "      <td>2008</td>\n",
       "      <td>10</td>\n",
       "      <td>NaN</td>\n",
       "      <td>M</td>\n",
       "      <td>183219</td>\n",
       "    </tr>\n",
       "    <tr>\n",
       "      <th>15543</th>\n",
       "      <td>2008</td>\n",
       "      <td>11</td>\n",
       "      <td>NaN</td>\n",
       "      <td>F</td>\n",
       "      <td>158939</td>\n",
       "    </tr>\n",
       "    <tr>\n",
       "      <th>15544</th>\n",
       "      <td>2008</td>\n",
       "      <td>11</td>\n",
       "      <td>NaN</td>\n",
       "      <td>M</td>\n",
       "      <td>165468</td>\n",
       "    </tr>\n",
       "    <tr>\n",
       "      <th>15545</th>\n",
       "      <td>2008</td>\n",
       "      <td>12</td>\n",
       "      <td>NaN</td>\n",
       "      <td>F</td>\n",
       "      <td>173215</td>\n",
       "    </tr>\n",
       "    <tr>\n",
       "      <th>15546</th>\n",
       "      <td>2008</td>\n",
       "      <td>12</td>\n",
       "      <td>NaN</td>\n",
       "      <td>M</td>\n",
       "      <td>181235</td>\n",
       "    </tr>\n",
       "  </tbody>\n",
       "</table>\n",
       "<p>15547 rows × 5 columns</p>\n",
       "</div>"
      ],
      "text/plain": [
       "       year  month  day gender  births\n",
       "0      1969      1  1.0      F    4046\n",
       "1      1969      1  1.0      M    4440\n",
       "2      1969      1  2.0      F    4454\n",
       "3      1969      1  2.0      M    4548\n",
       "4      1969      1  3.0      F    4548\n",
       "...     ...    ...  ...    ...     ...\n",
       "15542  2008     10  NaN      M  183219\n",
       "15543  2008     11  NaN      F  158939\n",
       "15544  2008     11  NaN      M  165468\n",
       "15545  2008     12  NaN      F  173215\n",
       "15546  2008     12  NaN      M  181235\n",
       "\n",
       "[15547 rows x 5 columns]"
      ]
     },
     "execution_count": 96,
     "metadata": {},
     "output_type": "execute_result"
    }
   ],
   "source": [
    "births"
   ]
  },
  {
   "cell_type": "code",
   "execution_count": 97,
   "id": "59e52a5c",
   "metadata": {},
   "outputs": [
    {
     "data": {
      "text/plain": [
       "<bound method NDFrame.head of        year  month  day gender  births\n",
       "0      1969      1  1.0      F    4046\n",
       "1      1969      1  1.0      M    4440\n",
       "2      1969      1  2.0      F    4454\n",
       "3      1969      1  2.0      M    4548\n",
       "4      1969      1  3.0      F    4548\n",
       "...     ...    ...  ...    ...     ...\n",
       "15542  2008     10  NaN      M  183219\n",
       "15543  2008     11  NaN      F  158939\n",
       "15544  2008     11  NaN      M  165468\n",
       "15545  2008     12  NaN      F  173215\n",
       "15546  2008     12  NaN      M  181235\n",
       "\n",
       "[15547 rows x 5 columns]>"
      ]
     },
     "execution_count": 97,
     "metadata": {},
     "output_type": "execute_result"
    }
   ],
   "source": [
    "births.head"
   ]
  },
  {
   "cell_type": "code",
   "execution_count": 98,
   "id": "31618488",
   "metadata": {},
   "outputs": [],
   "source": [
    "births['decade'] = (births['year']) // 10 * 10"
   ]
  },
  {
   "cell_type": "code",
   "execution_count": 99,
   "id": "7876d495",
   "metadata": {},
   "outputs": [
    {
     "data": {
      "text/html": [
       "<div>\n",
       "<style scoped>\n",
       "    .dataframe tbody tr th:only-of-type {\n",
       "        vertical-align: middle;\n",
       "    }\n",
       "\n",
       "    .dataframe tbody tr th {\n",
       "        vertical-align: top;\n",
       "    }\n",
       "\n",
       "    .dataframe thead th {\n",
       "        text-align: right;\n",
       "    }\n",
       "</style>\n",
       "<table border=\"1\" class=\"dataframe\">\n",
       "  <thead>\n",
       "    <tr style=\"text-align: right;\">\n",
       "      <th></th>\n",
       "      <th>year</th>\n",
       "      <th>month</th>\n",
       "      <th>day</th>\n",
       "      <th>gender</th>\n",
       "      <th>births</th>\n",
       "      <th>decade</th>\n",
       "    </tr>\n",
       "  </thead>\n",
       "  <tbody>\n",
       "    <tr>\n",
       "      <th>0</th>\n",
       "      <td>1969</td>\n",
       "      <td>1</td>\n",
       "      <td>1.0</td>\n",
       "      <td>F</td>\n",
       "      <td>4046</td>\n",
       "      <td>1960</td>\n",
       "    </tr>\n",
       "    <tr>\n",
       "      <th>1</th>\n",
       "      <td>1969</td>\n",
       "      <td>1</td>\n",
       "      <td>1.0</td>\n",
       "      <td>M</td>\n",
       "      <td>4440</td>\n",
       "      <td>1960</td>\n",
       "    </tr>\n",
       "    <tr>\n",
       "      <th>2</th>\n",
       "      <td>1969</td>\n",
       "      <td>1</td>\n",
       "      <td>2.0</td>\n",
       "      <td>F</td>\n",
       "      <td>4454</td>\n",
       "      <td>1960</td>\n",
       "    </tr>\n",
       "    <tr>\n",
       "      <th>3</th>\n",
       "      <td>1969</td>\n",
       "      <td>1</td>\n",
       "      <td>2.0</td>\n",
       "      <td>M</td>\n",
       "      <td>4548</td>\n",
       "      <td>1960</td>\n",
       "    </tr>\n",
       "    <tr>\n",
       "      <th>4</th>\n",
       "      <td>1969</td>\n",
       "      <td>1</td>\n",
       "      <td>3.0</td>\n",
       "      <td>F</td>\n",
       "      <td>4548</td>\n",
       "      <td>1960</td>\n",
       "    </tr>\n",
       "    <tr>\n",
       "      <th>...</th>\n",
       "      <td>...</td>\n",
       "      <td>...</td>\n",
       "      <td>...</td>\n",
       "      <td>...</td>\n",
       "      <td>...</td>\n",
       "      <td>...</td>\n",
       "    </tr>\n",
       "    <tr>\n",
       "      <th>15542</th>\n",
       "      <td>2008</td>\n",
       "      <td>10</td>\n",
       "      <td>NaN</td>\n",
       "      <td>M</td>\n",
       "      <td>183219</td>\n",
       "      <td>2000</td>\n",
       "    </tr>\n",
       "    <tr>\n",
       "      <th>15543</th>\n",
       "      <td>2008</td>\n",
       "      <td>11</td>\n",
       "      <td>NaN</td>\n",
       "      <td>F</td>\n",
       "      <td>158939</td>\n",
       "      <td>2000</td>\n",
       "    </tr>\n",
       "    <tr>\n",
       "      <th>15544</th>\n",
       "      <td>2008</td>\n",
       "      <td>11</td>\n",
       "      <td>NaN</td>\n",
       "      <td>M</td>\n",
       "      <td>165468</td>\n",
       "      <td>2000</td>\n",
       "    </tr>\n",
       "    <tr>\n",
       "      <th>15545</th>\n",
       "      <td>2008</td>\n",
       "      <td>12</td>\n",
       "      <td>NaN</td>\n",
       "      <td>F</td>\n",
       "      <td>173215</td>\n",
       "      <td>2000</td>\n",
       "    </tr>\n",
       "    <tr>\n",
       "      <th>15546</th>\n",
       "      <td>2008</td>\n",
       "      <td>12</td>\n",
       "      <td>NaN</td>\n",
       "      <td>M</td>\n",
       "      <td>181235</td>\n",
       "      <td>2000</td>\n",
       "    </tr>\n",
       "  </tbody>\n",
       "</table>\n",
       "<p>15547 rows × 6 columns</p>\n",
       "</div>"
      ],
      "text/plain": [
       "       year  month  day gender  births  decade\n",
       "0      1969      1  1.0      F    4046    1960\n",
       "1      1969      1  1.0      M    4440    1960\n",
       "2      1969      1  2.0      F    4454    1960\n",
       "3      1969      1  2.0      M    4548    1960\n",
       "4      1969      1  3.0      F    4548    1960\n",
       "...     ...    ...  ...    ...     ...     ...\n",
       "15542  2008     10  NaN      M  183219    2000\n",
       "15543  2008     11  NaN      F  158939    2000\n",
       "15544  2008     11  NaN      M  165468    2000\n",
       "15545  2008     12  NaN      F  173215    2000\n",
       "15546  2008     12  NaN      M  181235    2000\n",
       "\n",
       "[15547 rows x 6 columns]"
      ]
     },
     "execution_count": 99,
     "metadata": {},
     "output_type": "execute_result"
    }
   ],
   "source": [
    "births"
   ]
  },
  {
   "cell_type": "code",
   "execution_count": 100,
   "id": "7cbef314",
   "metadata": {},
   "outputs": [
    {
     "data": {
      "text/html": [
       "<div>\n",
       "<style scoped>\n",
       "    .dataframe tbody tr th:only-of-type {\n",
       "        vertical-align: middle;\n",
       "    }\n",
       "\n",
       "    .dataframe tbody tr th {\n",
       "        vertical-align: top;\n",
       "    }\n",
       "\n",
       "    .dataframe thead th {\n",
       "        text-align: right;\n",
       "    }\n",
       "</style>\n",
       "<table border=\"1\" class=\"dataframe\">\n",
       "  <thead>\n",
       "    <tr style=\"text-align: right;\">\n",
       "      <th>gender</th>\n",
       "      <th>F</th>\n",
       "      <th>M</th>\n",
       "    </tr>\n",
       "    <tr>\n",
       "      <th>decade</th>\n",
       "      <th></th>\n",
       "      <th></th>\n",
       "    </tr>\n",
       "  </thead>\n",
       "  <tbody>\n",
       "    <tr>\n",
       "      <th>1960</th>\n",
       "      <td>1753634</td>\n",
       "      <td>1846572</td>\n",
       "    </tr>\n",
       "    <tr>\n",
       "      <th>1970</th>\n",
       "      <td>16263075</td>\n",
       "      <td>17121550</td>\n",
       "    </tr>\n",
       "    <tr>\n",
       "      <th>1980</th>\n",
       "      <td>18310351</td>\n",
       "      <td>19243452</td>\n",
       "    </tr>\n",
       "    <tr>\n",
       "      <th>1990</th>\n",
       "      <td>19479454</td>\n",
       "      <td>20420553</td>\n",
       "    </tr>\n",
       "    <tr>\n",
       "      <th>2000</th>\n",
       "      <td>18229309</td>\n",
       "      <td>19106428</td>\n",
       "    </tr>\n",
       "  </tbody>\n",
       "</table>\n",
       "</div>"
      ],
      "text/plain": [
       "gender         F         M\n",
       "decade                    \n",
       "1960     1753634   1846572\n",
       "1970    16263075  17121550\n",
       "1980    18310351  19243452\n",
       "1990    19479454  20420553\n",
       "2000    18229309  19106428"
      ]
     },
     "execution_count": 100,
     "metadata": {},
     "output_type": "execute_result"
    }
   ],
   "source": [
    "births.pivot_table('births', index='decade', columns='gender', aggfunc='sum')"
   ]
  },
  {
   "cell_type": "code",
   "execution_count": 101,
   "id": "0b14e050",
   "metadata": {},
   "outputs": [],
   "source": [
    "%matplotlib inline"
   ]
  },
  {
   "cell_type": "code",
   "execution_count": 102,
   "id": "02853237",
   "metadata": {},
   "outputs": [],
   "source": [
    "import matplotlib.pyplot as plt"
   ]
  },
  {
   "cell_type": "code",
   "execution_count": 103,
   "id": "9a7b879a",
   "metadata": {},
   "outputs": [],
   "source": [
    "sns.set()"
   ]
  },
  {
   "cell_type": "code",
   "execution_count": 104,
   "id": "7dbc46bf",
   "metadata": {},
   "outputs": [
    {
     "data": {
      "text/plain": [
       "<AxesSubplot:xlabel='decade'>"
      ]
     },
     "execution_count": 104,
     "metadata": {},
     "output_type": "execute_result"
    },
    {
     "data": {
      "image/png": "[encoded data removed]",
      "text/plain": [
       "<Figure size 432x288 with 1 Axes>"
      ]
     },
     "metadata": {},
     "output_type": "display_data"
    }
   ],
   "source": [
    "births.pivot_table('births', index='decade', columns='gender', aggfunc='sum').plot()"
   ]
  },
  {
   "cell_type": "code",
   "execution_count": null,
   "id": "2c17b91c",
   "metadata": {},
   "outputs": [],
   "source": []
  }
 ],
 "metadata": {
  "kernelspec": {
   "display_name": "Python 3 (ipykernel)",
   "language": "python",
   "name": "python3"
  },
  "language_info": {
   "codemirror_mode": {
    "name": "ipython",
    "version": 3
   },
   "file_extension": ".py",
   "mimetype": "text/x-python",
   "name": "python",
   "nbconvert_exporter": "python",
   "pygments_lexer": "ipython3",
   "version": "3.9.7"
  }
 },
 "nbformat": 4,
 "nbformat_minor": 5
}
