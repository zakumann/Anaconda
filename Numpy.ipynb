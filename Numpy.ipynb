{
 "cells": [
  {
   "cell_type": "markdown",
   "id": "ff7a6b70",
   "metadata": {},
   "source": [
    "# Numpy\n",
    "\n",
    "Numpy의 소개\n",
    "NumPy(Numerical Python)는 파이썬에서 과학적 계산을 위한 핵심 라이브러리이다. NumPy는 다차원 배열 객체와 배열과 함께 작동하는 도구들을 제공한다. 하지만 NumPy 자체로는 고수준의 데이터 분석 기능을 제공하지 않기 때문에 NumPy 배열과 배열 기반 컴퓨팅의 이해를 통해 pandas와 같은 도구를 좀 더 효율적으로 사용하는 것이 필요하다.\n",
    "\n"
   ]
  },
  {
   "cell_type": "markdown",
   "id": "56e486bd",
   "metadata": {},
   "source": [
    "### ndarray 생성\n",
    "\n",
    "array 함수를 사용하여 배열 생성하기"
   ]
  },
  {
   "cell_type": "code",
   "execution_count": 2,
   "id": "293d78a1",
   "metadata": {},
   "outputs": [
    {
     "name": "stdout",
     "output_type": "stream",
     "text": [
      "[1 2 3 4]\n"
     ]
    }
   ],
   "source": [
    "import numpy as np\n",
    "\n",
    "## ndarray 생성\n",
    "arr = np.array([1,2,3,4])\n",
    "print(arr)"
   ]
  },
  {
   "cell_type": "markdown",
   "id": "73d6f41a",
   "metadata": {},
   "source": [
    "zeros, ones, empty 함수를 사용하여 배열을 생성한다."
   ]
  },
  {
   "cell_type": "code",
   "execution_count": 3,
   "id": "73e2e147",
   "metadata": {},
   "outputs": [
    {
     "data": {
      "text/plain": [
       "array([[0., 0., 0.],\n",
       "       [0., 0., 0.],\n",
       "       [0., 0., 0.]])"
      ]
     },
     "execution_count": 3,
     "metadata": {},
     "output_type": "execute_result"
    }
   ],
   "source": [
    "np.zeros((3,3))"
   ]
  },
  {
   "cell_type": "code",
   "execution_count": 4,
   "id": "482575a7",
   "metadata": {},
   "outputs": [
    {
     "data": {
      "text/plain": [
       "array([[1., 1.],\n",
       "       [1., 1.]])"
      ]
     },
     "execution_count": 4,
     "metadata": {},
     "output_type": "execute_result"
    }
   ],
   "source": [
    "np.ones((2,2))"
   ]
  },
  {
   "cell_type": "code",
   "execution_count": 5,
   "id": "3cf2aeac",
   "metadata": {
    "scrolled": true
   },
   "outputs": [
    {
     "data": {
      "text/plain": [
       "array([[6.23042070e-307, 4.67296746e-307, 1.69121096e-306,\n",
       "        1.29060871e-306],\n",
       "       [7.56587584e-307, 1.37961302e-306, 1.05699242e-307,\n",
       "        8.01097889e-307],\n",
       "       [1.78020169e-306, 7.56601165e-307, 1.02359984e-306,\n",
       "        1.33510679e-306],\n",
       "       [2.22522597e-306, 6.23053614e-307, 1.33511562e-306,\n",
       "        6.89805151e-307]])"
      ]
     },
     "execution_count": 5,
     "metadata": {},
     "output_type": "execute_result"
    }
   ],
   "source": [
    "np.empty((4,4))"
   ]
  },
  {
   "cell_type": "markdown",
   "id": "8a8233fc",
   "metadata": {},
   "source": [
    "zeros 함수를 사용하면 모든 값이 0인 배열을 만들 수 있다.\n",
    "ones 함수를 사용하면 모든 값이 1인 배열을 만들 수 있다.\n",
    "empty 함수를 사용하면 값이 초기화 되지 않은 배열을 만들 수 있다."
   ]
  },
  {
   "cell_type": "markdown",
   "id": "f8ab67f0",
   "metadata": {},
   "source": [
    "arrange 함수를 사용하여 배열 생성하기"
   ]
  },
  {
   "cell_type": "code",
   "execution_count": 6,
   "id": "1b2c0aa8",
   "metadata": {},
   "outputs": [
    {
     "data": {
      "text/plain": [
       "array([0, 1, 2, 3, 4, 5, 6, 7, 8, 9])"
      ]
     },
     "execution_count": 6,
     "metadata": {},
     "output_type": "execute_result"
    }
   ],
   "source": [
    "np.arange(10)   #[0,1,2,3,4,5,6,7,8,9]"
   ]
  },
  {
   "cell_type": "markdown",
   "id": "b8b388d7",
   "metadata": {},
   "source": [
    "### ndarray 배열의 모양, 차수, 데이터 타입 확인하기"
   ]
  },
  {
   "cell_type": "code",
   "execution_count": 7,
   "id": "3f69684e",
   "metadata": {},
   "outputs": [
    {
     "name": "stdout",
     "output_type": "stream",
     "text": [
      "[[1 2 3]\n",
      " [4 5 6]]\n"
     ]
    }
   ],
   "source": [
    "arr = np.array([[1,2,3],[4,5,6]])\n",
    "print(arr)"
   ]
  },
  {
   "cell_type": "code",
   "execution_count": 8,
   "id": "2ab58b9d",
   "metadata": {},
   "outputs": [
    {
     "data": {
      "text/plain": [
       "(2, 3)"
      ]
     },
     "execution_count": 8,
     "metadata": {},
     "output_type": "execute_result"
    }
   ],
   "source": [
    "arr.shape"
   ]
  },
  {
   "cell_type": "code",
   "execution_count": 9,
   "id": "0cb936a1",
   "metadata": {},
   "outputs": [
    {
     "data": {
      "text/plain": [
       "2"
      ]
     },
     "execution_count": 9,
     "metadata": {},
     "output_type": "execute_result"
    }
   ],
   "source": [
    "arr.ndim"
   ]
  },
  {
   "cell_type": "code",
   "execution_count": 10,
   "id": "f865ff5d",
   "metadata": {
    "scrolled": true
   },
   "outputs": [
    {
     "data": {
      "text/plain": [
       "dtype('int32')"
      ]
     },
     "execution_count": 10,
     "metadata": {},
     "output_type": "execute_result"
    }
   ],
   "source": [
    "arr.dtype"
   ]
  },
  {
   "cell_type": "markdown",
   "id": "18f41ccf",
   "metadata": {},
   "source": [
    "### ndarray 배열의 타입 변환\n",
    "\n",
    "astype 함수를 사용하여 정수형 데이터 배열을 실수형 데이터 배열로 변환하기"
   ]
  },
  {
   "cell_type": "code",
   "execution_count": 11,
   "id": "7629da39",
   "metadata": {},
   "outputs": [],
   "source": [
    "arr_int = np.array([1,2,3,4])"
   ]
  },
  {
   "cell_type": "code",
   "execution_count": 12,
   "id": "39ba69fd",
   "metadata": {},
   "outputs": [
    {
     "data": {
      "text/plain": [
       "dtype('int32')"
      ]
     },
     "execution_count": 12,
     "metadata": {},
     "output_type": "execute_result"
    }
   ],
   "source": [
    "arr_int.dtype"
   ]
  },
  {
   "cell_type": "code",
   "execution_count": 13,
   "id": "06d7ae86",
   "metadata": {},
   "outputs": [],
   "source": [
    "arr_float = arr.astype(np.float64)"
   ]
  },
  {
   "cell_type": "code",
   "execution_count": 16,
   "id": "4d5bf12a",
   "metadata": {},
   "outputs": [
    {
     "data": {
      "text/plain": [
       "dtype('float64')"
      ]
     },
     "execution_count": 16,
     "metadata": {},
     "output_type": "execute_result"
    }
   ],
   "source": [
    "arr_float.dtype"
   ]
  },
  {
   "cell_type": "markdown",
   "id": "02e3dffb",
   "metadata": {},
   "source": [
    "문자형 데이터 배열을 정수형 데이터 배열로 변환하기"
   ]
  },
  {
   "cell_type": "code",
   "execution_count": 17,
   "id": "df9b369d",
   "metadata": {},
   "outputs": [],
   "source": [
    "arr_str = np.array(['1','2','3'])"
   ]
  },
  {
   "cell_type": "code",
   "execution_count": 18,
   "id": "6cb9d02e",
   "metadata": {},
   "outputs": [
    {
     "data": {
      "text/plain": [
       "dtype('<U1')"
      ]
     },
     "execution_count": 18,
     "metadata": {},
     "output_type": "execute_result"
    }
   ],
   "source": [
    "arr_str.dtype"
   ]
  },
  {
   "cell_type": "code",
   "execution_count": 19,
   "id": "e61c9f49",
   "metadata": {},
   "outputs": [],
   "source": [
    "arr_int = arr_str.astype(np.int64)"
   ]
  },
  {
   "cell_type": "code",
   "execution_count": 20,
   "id": "c6f4d24b",
   "metadata": {
    "scrolled": true
   },
   "outputs": [
    {
     "data": {
      "text/plain": [
       "dtype('int64')"
      ]
     },
     "execution_count": 20,
     "metadata": {},
     "output_type": "execute_result"
    }
   ],
   "source": [
    "arr_int.dtype"
   ]
  },
  {
   "cell_type": "code",
   "execution_count": 21,
   "id": "3aa0bdb1",
   "metadata": {
    "scrolled": true
   },
   "outputs": [
    {
     "ename": "SyntaxError",
     "evalue": "unmatched ')' (Temp/ipykernel_15208/284629597.py, line 2)",
     "output_type": "error",
     "traceback": [
      "\u001b[1;36m  File \u001b[1;32m\"C:\\Users\\samue\\AppData\\Local\\Temp/ipykernel_15208/284629597.py\"\u001b[1;36m, line \u001b[1;32m2\u001b[0m\n\u001b[1;33m    )\u001b[0m\n\u001b[1;37m    ^\u001b[0m\n\u001b[1;31mSyntaxError\u001b[0m\u001b[1;31m:\u001b[0m unmatched ')'\n"
     ]
    }
   ],
   "source": [
    "![Built-in Python types, ndarray data types](images/numpy-1.png\n",
    ")"
   ]
  },
  {
   "cell_type": "code",
   "execution_count": 22,
   "id": "cd2125c9",
   "metadata": {
    "scrolled": false
   },
   "outputs": [
    {
     "name": "stderr",
     "output_type": "stream",
     "text": [
      "'[Data' is not recognized as an internal or external command,\n",
      "operable program or batch file.\n"
     ]
    }
   ],
   "source": [
    "![Data Types](images/numpy-2.png)"
   ]
  },
  {
   "cell_type": "markdown",
   "id": "9826721d",
   "metadata": {},
   "source": [
    "### ndarray 배열의 연산\n",
    "\n",
    "기본 연산자와 함수를 통해 배열 연산하기"
   ]
  },
  {
   "cell_type": "code",
   "execution_count": 23,
   "id": "002692cb",
   "metadata": {},
   "outputs": [
    {
     "data": {
      "text/plain": [
       "array([[ 6,  8],\n",
       "       [10, 12]])"
      ]
     },
     "execution_count": 23,
     "metadata": {},
     "output_type": "execute_result"
    }
   ],
   "source": [
    "## 배열 연산\n",
    "arr1 = np.array([[1,2],[3,4]])\n",
    "arr2 = np.array([[5,6],[7,8]])\n",
    "\n",
    "arr1 + arr2"
   ]
  },
  {
   "cell_type": "code",
   "execution_count": 24,
   "id": "d1b58b2f",
   "metadata": {},
   "outputs": [
    {
     "data": {
      "text/plain": [
       "array([[ 6,  8],\n",
       "       [10, 12]])"
      ]
     },
     "execution_count": 24,
     "metadata": {},
     "output_type": "execute_result"
    }
   ],
   "source": [
    "np.add(arr1, arr2)"
   ]
  },
  {
   "cell_type": "code",
   "execution_count": 25,
   "id": "005d78cc",
   "metadata": {},
   "outputs": [
    {
     "data": {
      "text/plain": [
       "array([[ 5, 12],\n",
       "       [21, 32]])"
      ]
     },
     "execution_count": 25,
     "metadata": {},
     "output_type": "execute_result"
    }
   ],
   "source": [
    "arr1 * arr2"
   ]
  },
  {
   "cell_type": "code",
   "execution_count": 26,
   "id": "6d37343e",
   "metadata": {},
   "outputs": [
    {
     "data": {
      "text/plain": [
       "array([[ 5, 12],\n",
       "       [21, 32]])"
      ]
     },
     "execution_count": 26,
     "metadata": {},
     "output_type": "execute_result"
    }
   ],
   "source": [
    "np.multiply(arr1, arr2)"
   ]
  },
  {
   "cell_type": "markdown",
   "id": "5d4c0a87",
   "metadata": {},
   "source": [
    "Numpy 배열의 연산은 연산자 (+,-,*,/)나 함수(add, subtract, multiply, divide)로 가능하다."
   ]
  },
  {
   "cell_type": "markdown",
   "id": "a5f00b8c",
   "metadata": {},
   "source": [
    "dot 함수를 사용하여 행렬의 곱 계산하기"
   ]
  },
  {
   "cell_type": "code",
   "execution_count": 27,
   "id": "601c315c",
   "metadata": {},
   "outputs": [
    {
     "data": {
      "text/plain": [
       "array([[19, 22],\n",
       "       [43, 50]])"
      ]
     },
     "execution_count": 27,
     "metadata": {},
     "output_type": "execute_result"
    }
   ],
   "source": [
    "# dot 함수를 사용한 행렬의 곱 계산\n",
    "arr1.dot(arr2) # 배열 객체의 인스턴스 메소드로 dot 함수 사용"
   ]
  },
  {
   "cell_type": "code",
   "execution_count": 28,
   "id": "a4acdc85",
   "metadata": {},
   "outputs": [
    {
     "data": {
      "text/plain": [
       "array([[19, 22],\n",
       "       [43, 50]])"
      ]
     },
     "execution_count": 28,
     "metadata": {},
     "output_type": "execute_result"
    }
   ],
   "source": [
    "np.dot(arr1, arr2)"
   ]
  },
  {
   "cell_type": "markdown",
   "id": "bc7e32e2",
   "metadata": {},
   "source": [
    "앞에서 살펴본 것과 같이 Numpy 배열에 기본 연산자(*)를 통한 곱은 행렬의 곱이 아닌 배열ㅇ 요소의 곱이다. 따라서 행렬의 곱을 수행하기 위해서는 dot 함수를 사용해야 한다."
   ]
  },
  {
   "cell_type": "markdown",
   "id": "3a3f3431",
   "metadata": {},
   "source": [
    "### ndarray 배열 슬라이싱 하기\n",
    "\n",
    "ndarray 배열 슬라이싱 하기"
   ]
  },
  {
   "cell_type": "code",
   "execution_count": 29,
   "id": "f1959e73",
   "metadata": {},
   "outputs": [],
   "source": [
    "# 배열 슬라이싱\n",
    "arr = np.array([[1,2,3],[4,5,6],[7,8,9]])"
   ]
  },
  {
   "cell_type": "code",
   "execution_count": 30,
   "id": "92064ef4",
   "metadata": {},
   "outputs": [
    {
     "name": "stdout",
     "output_type": "stream",
     "text": [
      "[[2 3]\n",
      " [5 6]]\n"
     ]
    }
   ],
   "source": [
    "arr_1 = arr[:2,1:3]\n",
    "print(arr_1)"
   ]
  },
  {
   "cell_type": "markdown",
   "id": "774820e5",
   "metadata": {},
   "source": [
    "슬라이싱한 배열은 원본 배열의 뷰이다.(슬라이싱한 배열을 수정하면 원본 배열도 바뀐다.)\n",
    "뷰가 아닌 새로운 배열을 생성하려면 arr[:2,1:3].copy()와 같은 함수를 사용해야 한다."
   ]
  },
  {
   "cell_type": "markdown",
   "id": "4f0614b8",
   "metadata": {},
   "source": [
    "ndarray 정수 배열 인덱싱 하기"
   ]
  },
  {
   "cell_type": "code",
   "execution_count": 25,
   "id": "c4d4fb85",
   "metadata": {
    "scrolled": true
   },
   "outputs": [
    {
     "data": {
      "text/plain": [
       "(3, 3)"
      ]
     },
     "execution_count": 25,
     "metadata": {},
     "output_type": "execute_result"
    }
   ],
   "source": [
    "arr.shape"
   ]
  },
  {
   "cell_type": "code",
   "execution_count": 32,
   "id": "efbd4ea5",
   "metadata": {},
   "outputs": [],
   "source": [
    "## 정수 배열 인덱싱\n",
    "arr = np.array([[1,2,3],[4,5,6],[7,8,9]])"
   ]
  },
  {
   "cell_type": "code",
   "execution_count": 33,
   "id": "f68c2c52",
   "metadata": {},
   "outputs": [
    {
     "data": {
      "text/plain": [
       "3"
      ]
     },
     "execution_count": 33,
     "metadata": {},
     "output_type": "execute_result"
    }
   ],
   "source": [
    "arr[0,2] #0행 2열 값에 접근"
   ]
  },
  {
   "cell_type": "code",
   "execution_count": 34,
   "id": "e7a6c793",
   "metadata": {},
   "outputs": [
    {
     "data": {
      "text/plain": [
       "array([3, 4, 8])"
      ]
     },
     "execution_count": 34,
     "metadata": {},
     "output_type": "execute_result"
    }
   ],
   "source": [
    "arr[[0,1,2],[2,0,1]] #0,1,2 행의 2,0,1열 값에 접근"
   ]
  },
  {
   "cell_type": "markdown",
   "id": "ed86929b",
   "metadata": {},
   "source": [
    "슬라이싱한 배열은 원본 배열의 뷰였던 것과 달리, 정수 배열 인덱싱은 새로운 배열을 생성한다.따라서 정수 인덱싱으로 생성한 배열을 수정하여도 원본 배열이 수정되지 않는다."
   ]
  },
  {
   "cell_type": "markdown",
   "id": "fcd87353",
   "metadata": {},
   "source": [
    "Boolean 배열 인덱싱하기"
   ]
  },
  {
   "cell_type": "code",
   "execution_count": 35,
   "id": "1af0b095",
   "metadata": {},
   "outputs": [],
   "source": [
    "## Boolean 배열 인덱싱 \n",
    "arr = np.array([[1,2,3],[4,5,6]])"
   ]
  },
  {
   "cell_type": "code",
   "execution_count": 36,
   "id": "87316a3f",
   "metadata": {
    "scrolled": true
   },
   "outputs": [],
   "source": [
    "idx = arr > 3 # arr에서 3보다 큰 값을 찾아서 같은 Shape의 True or False 값을 가진 배열로 생성"
   ]
  },
  {
   "cell_type": "code",
   "execution_count": 37,
   "id": "cc6403b0",
   "metadata": {},
   "outputs": [
    {
     "name": "stdout",
     "output_type": "stream",
     "text": [
      "[[False False False]\n",
      " [ True  True  True]]\n"
     ]
    }
   ],
   "source": [
    "print(idx)"
   ]
  },
  {
   "cell_type": "code",
   "execution_count": 38,
   "id": "25382654",
   "metadata": {},
   "outputs": [
    {
     "name": "stdout",
     "output_type": "stream",
     "text": [
      "[4 5 6]\n"
     ]
    }
   ],
   "source": [
    "print(arr[idx])"
   ]
  },
  {
   "cell_type": "markdown",
   "id": "a8ebb68c",
   "metadata": {},
   "source": [
    "idx의 값들은 arr의 값이 3보다 큰 것인지(True), 같거나 작은 것인지(False) 나타낸다."
   ]
  },
  {
   "cell_type": "markdown",
   "id": "fa442c1d",
   "metadata": {},
   "source": [
    "NumPy는 sum, mean과 같은 기본적인 수학 메서드와 통계 메서드를 제공하고 있다. 이를 활용하여 Wine Quality 데이터의 기초 통계 분석을 실습한다."
   ]
  },
  {
   "cell_type": "markdown",
   "id": "865caa20",
   "metadata": {},
   "source": [
    "### Wine Quality 데이터 설명\n",
    "\n",
    "Wine Quality 데이터에는 포르투갈의 레드 와인과 화이트 와인 두 개의 데이터 세시이 있다. 각각의 데이터 셋 안에는 물리화학적 실험에 대한 12개의 변수들이 있다. 변수에 대한 설명은 다음과 같다. "
   ]
  },
  {
   "cell_type": "code",
   "execution_count": 41,
   "id": "929e2c0e",
   "metadata": {},
   "outputs": [
    {
     "name": "stderr",
     "output_type": "stream",
     "text": [
      "'[Wine' is not recognized as an internal or external command,\n",
      "operable program or batch file.\n"
     ]
    }
   ],
   "source": [
    "![Wine Quality 데이터 변수 설명](images/numpy-3.png)"
   ]
  },
  {
   "cell_type": "markdown",
   "id": "75587c26",
   "metadata": {},
   "source": [
    "### Wine Quality 데이터 불러오기\n",
    "\n",
    "실습은 Wine Quality 데이터(red, white) 중 winequality-red.csv 파일만 사용한다. \n",
    "\n"
   ]
  },
  {
   "cell_type": "code",
   "execution_count": 42,
   "id": "1605e912",
   "metadata": {},
   "outputs": [],
   "source": [
    "import numpy as np\n",
    "\n",
    "##winequality-red.csv 파일 불러오기\n",
    "redwine = np.loadtxt(fname = 'samples/winequality-red.csv', delimiter=';', skiprows = 1)"
   ]
  },
  {
   "cell_type": "code",
   "execution_count": 44,
   "id": "f728d489",
   "metadata": {},
   "outputs": [
    {
     "name": "stdout",
     "output_type": "stream",
     "text": [
      "[[ 7.4    0.7    0.    ...  0.56   9.4    5.   ]\n",
      " [ 7.8    0.88   0.    ...  0.68   9.8    5.   ]\n",
      " [ 7.8    0.76   0.04  ...  0.65   9.8    5.   ]\n",
      " ...\n",
      " [ 6.3    0.51   0.13  ...  0.75  11.     6.   ]\n",
      " [ 5.9    0.645  0.12  ...  0.71  10.2    5.   ]\n",
      " [ 6.     0.31   0.47  ...  0.66  11.     6.   ]]\n"
     ]
    }
   ],
   "source": [
    "print(redwine)"
   ]
  },
  {
   "cell_type": "markdown",
   "id": "75d76479",
   "metadata": {},
   "source": [
    "numpy 라이브러리 안에 loadtxt함수를 실행하여 텍스트 파일을 불러올 수 있다.\n",
    "fname에는 winequality-red.csv 파일이 위치한 디렉토리를 입력한다.\n",
    "csv 파일의 구분자가 ;이기 때문에 delimiter=;을 해주고, 변수인 첫 행은 불러 오지 않기 때문에 skiprows = 1를 해준다."
   ]
  },
  {
   "cell_type": "markdown",
   "id": "cf0ae542",
   "metadata": {},
   "source": [
    "### Wine Quality 데이터를 활용한 기초 통계 분석\n",
    "\n",
    "NumPy에는 기본적인 배열 통계 메서드가 있다. sum, mean과 같은 기본적인 통계 메서드를 통해 3.2에서 불러온 redwine 데이터의 기초적인 통계 분석을 해본다. 실습할 통계 메서드는 다음과 같다. "
   ]
  },
  {
   "cell_type": "code",
   "execution_count": 45,
   "id": "530eb9ff",
   "metadata": {},
   "outputs": [
    {
     "name": "stderr",
     "output_type": "stream",
     "text": [
      "'[??' is not recognized as an internal or external command,\n",
      "operable program or batch file.\n"
     ]
    }
   ],
   "source": [
    "![배열 통계 메서드](images/numpy-4.png)"
   ]
  },
  {
   "cell_type": "code",
   "execution_count": 46,
   "id": "7a4ed3c1",
   "metadata": {},
   "outputs": [
    {
     "name": "stdout",
     "output_type": "stream",
     "text": [
      "152084.78194\n"
     ]
    }
   ],
   "source": [
    "print(redwine.sum())"
   ]
  },
  {
   "cell_type": "code",
   "execution_count": 47,
   "id": "d05d8efb",
   "metadata": {},
   "outputs": [
    {
     "name": "stdout",
     "output_type": "stream",
     "text": [
      "7.926036165311652\n"
     ]
    }
   ],
   "source": [
    "print(redwine.mean()) #5"
   ]
  },
  {
   "cell_type": "code",
   "execution_count": 48,
   "id": "0049eb51",
   "metadata": {},
   "outputs": [
    {
     "name": "stdout",
     "output_type": "stream",
     "text": [
      "[ 8.31963727  0.52782051  0.27097561  2.5388055   0.08746654 15.87492183\n",
      " 46.46779237  0.99674668  3.3111132   0.65814884 10.42298311  5.63602251]\n"
     ]
    }
   ],
   "source": [
    "print(redwine.mean(axis=0))"
   ]
  },
  {
   "cell_type": "code",
   "execution_count": 49,
   "id": "02b24eba",
   "metadata": {},
   "outputs": [
    {
     "name": "stdout",
     "output_type": "stream",
     "text": [
      "8.31963727329581\n"
     ]
    }
   ],
   "source": [
    "print(redwine[:,0].mean())"
   ]
  },
  {
   "cell_type": "markdown",
   "id": "0782e0cd",
   "metadata": {},
   "source": [
    "redwine.sum(): redwine 데이터 셋에 있는 모든 데이터의 합\n",
    "redwine.mean(): redwine 데이터 셋에 있는 모든 데이터의 평균\n",
    "redwine.mean(axis=0): redwine 데이터 셋의 열별(axis=0은 열을 뜻한다.) 평균, 이를 통해 각 변수별 평균을 알 수 있다. Fixed acidity의 평균은 8.31963722 이며, volatile acidity의 평균은 0.52782051 이다.\n",
    "redwine[:0.mean(): redwine 데이터 셋의 첫번째 열 (0번째 열)의 모든 값들의 평균을 뜻한다. 즉, fixed acidity의 평균만 알 수 있다."
   ]
  },
  {
   "cell_type": "code",
   "execution_count": 50,
   "id": "8c589447",
   "metadata": {},
   "outputs": [
    {
     "name": "stdout",
     "output_type": "stream",
     "text": [
      "[ 15.9       1.58      1.       15.5       0.611    72.      289.\n",
      "   1.00369   4.01      2.       14.9       8.     ]\n"
     ]
    }
   ],
   "source": [
    "print(redwine.max(axis=0))"
   ]
  },
  {
   "cell_type": "code",
   "execution_count": 51,
   "id": "3fd64f6e",
   "metadata": {},
   "outputs": [
    {
     "name": "stdout",
     "output_type": "stream",
     "text": [
      "[4.6     0.12    0.      0.9     0.012   1.      6.      0.99007 2.74\n",
      " 0.33    8.4     3.     ]\n"
     ]
    }
   ],
   "source": [
    "print(redwine.min(axis=0))"
   ]
  },
  {
   "cell_type": "markdown",
   "id": "335a1ada",
   "metadata": {},
   "source": [
    "redwine.max(axis=0): redwine 데이터 셋의 열별(변수별) 최대값\n",
    "\n",
    "redwine.min(axis=0): redwine 데이터 셋의 열별(변수별) 최대값"
   ]
  },
  {
   "cell_type": "code",
   "execution_count": null,
   "id": "479e5a70",
   "metadata": {},
   "outputs": [],
   "source": []
  }
 ],
 "metadata": {
  "kernelspec": {
   "display_name": "Python 3 (ipykernel)",
   "language": "python",
   "name": "python3"
  },
  "language_info": {
   "codemirror_mode": {
    "name": "ipython",
    "version": 3
   },
   "file_extension": ".py",
   "mimetype": "text/x-python",
   "name": "python",
   "nbconvert_exporter": "python",
   "pygments_lexer": "ipython3",
   "version": "3.9.7"
  }
 },
 "nbformat": 4,
 "nbformat_minor": 5
}
